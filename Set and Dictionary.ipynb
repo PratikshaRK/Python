{
 "cells": [
  {
   "cell_type": "markdown",
   "id": "e924b762",
   "metadata": {},
   "source": [
    "# Set"
   ]
  },
  {
   "cell_type": "code",
   "execution_count": 1,
   "id": "a272b5bd",
   "metadata": {},
   "outputs": [
    {
     "name": "stdout",
     "output_type": "stream",
     "text": [
      "Intial blank Set: \n",
      "set()\n",
      "\n",
      "Set with the use of String: \n",
      "{'y', 'r', 't', 'm', 'n', 'o', 'e', 'P', 'h', 'f'}\n",
      "\n",
      "Set with the use of List: \n",
      "{'Python', 'For', 'Me'}\n",
      "\n",
      "Set with the use of Mixed Values\n",
      "{1, 2, 4, 6, 'Me', 'For', 'Python'}\n"
     ]
    }
   ],
   "source": [
    "# Python program to demonstrate\n",
    "# Creation of Set in Python\n",
    "\t\n",
    "# Creating a Set\n",
    "set1 = set()\n",
    "print(\"Intial blank Set: \")\n",
    "print(set1)\n",
    "\t\n",
    "# Creating a Set with\n",
    "# the use of a String\n",
    "set1 = set(\"Pythonforme\")\n",
    "print(\"\\nSet with the use of String: \")\n",
    "print(set1)\n",
    "\n",
    "# Creating a Set with\n",
    "# the use of a List\n",
    "set1 = set([\"Python\", \"For\", \"Me\"])\n",
    "print(\"\\nSet with the use of List: \")\n",
    "print(set1)\n",
    "\n",
    "# Creating a Set with\n",
    "# a mixed type of values\n",
    "# (Having numbers and strings)\n",
    "set1 = set([1, 2, 'Python', 4, 'For', 6, 'Me'])\n",
    "print(\"\\nSet with the use of Mixed Values\")\n",
    "print(set1)"
   ]
  },
  {
   "cell_type": "markdown",
   "id": "9736b4c1",
   "metadata": {},
   "source": [
    "# Dictionary"
   ]
  },
  {
   "cell_type": "code",
   "execution_count": 2,
   "id": "4cf4cb77",
   "metadata": {},
   "outputs": [
    {
     "name": "stdout",
     "output_type": "stream",
     "text": [
      "Empty Dictionary: \n",
      "{}\n",
      "\n",
      "Dictionary with the use of Integer Keys: \n",
      "{1: 'Geeks', 2: 'For', 3: 'Geeks'}\n",
      "\n",
      "Dictionary with the use of Mixed Keys: \n",
      "{'Name': 'Geeks', 1: [1, 2, 3, 4]}\n",
      "\n",
      "Dictionary with the use of dict(): \n",
      "{1: 'Geeks', 2: 'For', 3: 'Geeks'}\n",
      "\n",
      "Dictionary with each item as a pair: \n",
      "{1: 'Geeks', 2: 'For'}\n"
     ]
    }
   ],
   "source": [
    "# Creating an empty Dictionary\n",
    "Dict = {}\n",
    "print(\"Empty Dictionary: \")\n",
    "print(Dict)\n",
    "\t\n",
    "# Creating a Dictionary\n",
    "# with Integer Keys\n",
    "Dict = {1: 'Geeks', 2: 'For', 3: 'Geeks'}\n",
    "print(\"\\nDictionary with the use of Integer Keys: \")\n",
    "print(Dict)\n",
    "\t\n",
    "# Creating a Dictionary\n",
    "# with Mixed keys\n",
    "Dict = {'Name': 'Geeks', 1: [1, 2, 3, 4]}\n",
    "print(\"\\nDictionary with the use of Mixed Keys: \")\n",
    "print(Dict)\n",
    "\t\n",
    "# Creating a Dictionary\n",
    "# with dict() method\n",
    "Dict = dict({1: 'Geeks', 2: 'For', 3:'Geeks'})\n",
    "print(\"\\nDictionary with the use of dict(): \")\n",
    "print(Dict)\n",
    "\t\n",
    "# Creating a Dictionary\n",
    "# with each item as a Pair\n",
    "Dict = dict([(1, 'Geeks'), (2, 'For')])\n",
    "print(\"\\nDictionary with each item as a pair: \")\n",
    "print(Dict)"
   ]
  },
  {
   "cell_type": "code",
   "execution_count": null,
   "id": "17fb2a29",
   "metadata": {},
   "outputs": [],
   "source": []
  }
 ],
 "metadata": {
  "kernelspec": {
   "display_name": "Python 3",
   "language": "python",
   "name": "python3"
  },
  "language_info": {
   "codemirror_mode": {
    "name": "ipython",
    "version": 3
   },
   "file_extension": ".py",
   "mimetype": "text/x-python",
   "name": "python",
   "nbconvert_exporter": "python",
   "pygments_lexer": "ipython3",
   "version": "3.8.8"
  }
 },
 "nbformat": 4,
 "nbformat_minor": 5
}
