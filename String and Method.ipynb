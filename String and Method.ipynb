{
 "cells": [
  {
   "cell_type": "markdown",
   "id": "4cdcd6de",
   "metadata": {},
   "source": [
    "# String"
   ]
  },
  {
   "cell_type": "code",
   "execution_count": 3,
   "id": "0767adb0",
   "metadata": {},
   "outputs": [
    {
     "name": "stdout",
     "output_type": "stream",
     "text": [
      "Welcome to Python World\n",
      "<class 'str'>\n",
      "Welcome to Python World\n",
      "<class 'str'>\n",
      "Welcome to Python World\n",
      "<class 'str'>\n",
      "Welcome\n",
      "to\n",
      "Python World\n",
      "<class 'str'>\n"
     ]
    }
   ],
   "source": [
    "# strings are nothing but array of characters\n",
    "#String with single quotes\n",
    "String1='Welcome to Python World'\n",
    "print(String1)\n",
    "print(type(String1))\n",
    "\n",
    "#String with Double quotes\n",
    "String2=\"Welcome to Python World\"\n",
    "print(String2)\n",
    "print(type(String2))\n",
    "\n",
    "#String with triple Quotes \n",
    "String3='''Welcome to Python World'''\n",
    "print(String3)\n",
    "print(type(String3))\n",
    "\n",
    "#String with triple quotes allows multiple line\n",
    "String4= '''Welcome\n",
    "to\n",
    "Python World'''\n",
    "print(String4)\n",
    "print(type(String4))"
   ]
  },
  {
   "cell_type": "code",
   "execution_count": 22,
   "id": "19776a3a",
   "metadata": {},
   "outputs": [
    {
     "name": "stdout",
     "output_type": "stream",
     "text": [
      "Python is \"fantastic\"\n",
      "i\n",
      "\"\n",
      "a\n",
      "thon \n",
      "thon is \"fantastic\"\n"
     ]
    }
   ],
   "source": [
    "name='Python is \"fantastic\"'\n",
    "print(name)\n",
    "## Accessing String Elements\n",
    "print(name[7])\n",
    "## Negative Indexing - starts with end\n",
    "print(name[-1])\n",
    "print(name[-9])\n",
    "# Slicing\n",
    "str2=name[2:7]\n",
    "print(str2)\n",
    "print(name[2:])"
   ]
  },
  {
   "cell_type": "code",
   "execution_count": 23,
   "id": "1354dca0",
   "metadata": {},
   "outputs": [
    {
     "name": "stdout",
     "output_type": "stream",
     "text": [
      "Python is \"fanta\n"
     ]
    }
   ],
   "source": [
    "print(name[:16])"
   ]
  },
  {
   "cell_type": "code",
   "execution_count": 20,
   "id": "923c507f",
   "metadata": {},
   "outputs": [
    {
     "name": "stdout",
     "output_type": "stream",
     "text": [
      "21\n"
     ]
    }
   ],
   "source": [
    "print(len(name))"
   ]
  },
  {
   "cell_type": "code",
   "execution_count": 18,
   "id": "3fc8289a",
   "metadata": {},
   "outputs": [
    {
     "data": {
      "text/plain": [
       "'Python is \"fanta'"
      ]
     },
     "execution_count": 18,
     "metadata": {},
     "output_type": "execute_result"
    }
   ],
   "source": [
    "name[-21:-5]"
   ]
  },
  {
   "cell_type": "code",
   "execution_count": 2,
   "id": "fab1da42",
   "metadata": {},
   "outputs": [
    {
     "data": {
      "text/plain": [
       "'Python is \"fantastic\"Python is \"fantastic\"Python is \"fantastic\"Python is \"fantastic\"Python is \"fantastic\"Python is \"fantastic\"Python is \"fantastic\"Python is \"fantastic\"Python is \"fantastic\"Python is \"fantastic\"'"
      ]
     },
     "execution_count": 2,
     "metadata": {},
     "output_type": "execute_result"
    }
   ],
   "source": [
    "# string Repeatation\n",
    "name*10"
   ]
  },
  {
   "cell_type": "code",
   "execution_count": 19,
   "id": "01861bcc",
   "metadata": {},
   "outputs": [],
   "source": [
    "### String Methods"
   ]
  },
  {
   "cell_type": "code",
   "execution_count": 24,
   "id": "15cb44d6",
   "metadata": {},
   "outputs": [],
   "source": [
    "name=\"  Hello World  !!  \""
   ]
  },
  {
   "cell_type": "code",
   "execution_count": 25,
   "id": "1722fa56",
   "metadata": {},
   "outputs": [
    {
     "name": "stdout",
     "output_type": "stream",
     "text": [
      "Hello World  !!\n"
     ]
    }
   ],
   "source": [
    "# 1. Striping Method\n",
    "print(name.strip())"
   ]
  },
  {
   "cell_type": "code",
   "execution_count": 26,
   "id": "90422333",
   "metadata": {},
   "outputs": [
    {
     "name": "stdout",
     "output_type": "stream",
     "text": [
      "  hello world  !!  \n"
     ]
    }
   ],
   "source": [
    "# 2. lower Method\n",
    "print(name.lower())"
   ]
  },
  {
   "cell_type": "code",
   "execution_count": 27,
   "id": "ddbb82f8",
   "metadata": {},
   "outputs": [
    {
     "name": "stdout",
     "output_type": "stream",
     "text": [
      "  HELLO WORLD  !!  \n"
     ]
    }
   ],
   "source": [
    "# 3. Upper Method\n",
    "print(name.upper())"
   ]
  },
  {
   "cell_type": "code",
   "execution_count": 28,
   "id": "1484a0fc",
   "metadata": {},
   "outputs": [
    {
     "name": "stdout",
     "output_type": "stream",
     "text": [
      "  Tello World  !!  \n"
     ]
    }
   ],
   "source": [
    "# 4. Replace Method\n",
    "print(name.replace(\"H\",\"T\"))"
   ]
  },
  {
   "cell_type": "code",
   "execution_count": 29,
   "id": "4ad762af",
   "metadata": {},
   "outputs": [
    {
     "name": "stdout",
     "output_type": "stream",
     "text": [
      "['Hello', ' World']\n",
      "Hello\n",
      " World\n"
     ]
    }
   ],
   "source": [
    "# 5. Split Method\n",
    "name=\"Hello, World\"\n",
    "print(name.split(\",\"))\n",
    "str1,str2=name.split(\",\")\n",
    "print(str1)\n",
    "print(str2)"
   ]
  },
  {
   "cell_type": "code",
   "execution_count": 30,
   "id": "1e7d9e2d",
   "metadata": {},
   "outputs": [
    {
     "name": "stdout",
     "output_type": "stream",
     "text": [
      "found\n"
     ]
    }
   ],
   "source": [
    "# check substring in main string\n",
    "str1=\"we are in panvel in today\"\n",
    "if \"panvel\" in str1:\n",
    "    print(\"found\")\n",
    "else:\n",
    "    print(\"not found\")\n"
   ]
  },
  {
   "cell_type": "code",
   "execution_count": 31,
   "id": "c103ef11",
   "metadata": {},
   "outputs": [
    {
     "name": "stdout",
     "output_type": "stream",
     "text": [
      "demotest\n",
      "demo test\n"
     ]
    }
   ],
   "source": [
    "# Concatination\n",
    "str1=\"demo\"\n",
    "str2=\"test\"\n",
    "str3=str1+str2\n",
    "print(str3)\n",
    "str3=str1+\" \"+str2\n",
    "print(str3)\n"
   ]
  },
  {
   "cell_type": "code",
   "execution_count": 32,
   "id": "98cf6bca",
   "metadata": {},
   "outputs": [
    {
     "name": "stdout",
     "output_type": "stream",
     "text": [
      "hi i am john and my age is 36\n"
     ]
    }
   ],
   "source": [
    "# format - format strings according to requirements\n",
    "age=36\n",
    "txt=\"hi i am john and my age is {}\"\n",
    "print(txt.format(age))\n",
    "\n"
   ]
  },
  {
   "cell_type": "code",
   "execution_count": 33,
   "id": "9488445b",
   "metadata": {},
   "outputs": [
    {
     "name": "stdout",
     "output_type": "stream",
     "text": [
      "i have ordered 12 items, each of 10 quantities with price 35\n"
     ]
    }
   ],
   "source": [
    "q=12\n",
    "p=35\n",
    "ino=10\n",
    "order=\"i have ordered {1} items, each of {0} quantities with price {2}\"\n",
    "print(order.format(ino,q,p))"
   ]
  },
  {
   "cell_type": "code",
   "execution_count": 34,
   "id": "7782b050",
   "metadata": {},
   "outputs": [
    {
     "name": "stdout",
     "output_type": "stream",
     "text": [
      "True\n"
     ]
    }
   ],
   "source": [
    "name=\"vdf\"\n",
    "print(name.isalpha())"
   ]
  },
  {
   "cell_type": "code",
   "execution_count": 35,
   "id": "805bdb11",
   "metadata": {},
   "outputs": [],
   "source": [
    "name=\"amol\""
   ]
  },
  {
   "cell_type": "code",
   "execution_count": 36,
   "id": "44b02713",
   "metadata": {},
   "outputs": [],
   "source": [
    "sname=name"
   ]
  },
  {
   "cell_type": "code",
   "execution_count": 37,
   "id": "5091155f",
   "metadata": {},
   "outputs": [
    {
     "data": {
      "text/plain": [
       "'amol'"
      ]
     },
     "execution_count": 37,
     "metadata": {},
     "output_type": "execute_result"
    }
   ],
   "source": [
    "sname"
   ]
  },
  {
   "cell_type": "code",
   "execution_count": 38,
   "id": "27f69cec",
   "metadata": {},
   "outputs": [
    {
     "data": {
      "text/plain": [
       "'amol'"
      ]
     },
     "execution_count": 38,
     "metadata": {},
     "output_type": "execute_result"
    }
   ],
   "source": [
    "name"
   ]
  },
  {
   "cell_type": "code",
   "execution_count": 39,
   "id": "c6c1df4d",
   "metadata": {},
   "outputs": [],
   "source": [
    "name=\" amol patil\""
   ]
  },
  {
   "cell_type": "code",
   "execution_count": 40,
   "id": "c189559e",
   "metadata": {},
   "outputs": [
    {
     "data": {
      "text/plain": [
       "'amol'"
      ]
     },
     "execution_count": 40,
     "metadata": {},
     "output_type": "execute_result"
    }
   ],
   "source": [
    "sname"
   ]
  },
  {
   "cell_type": "code",
   "execution_count": 1,
   "id": "e2cfb5a4",
   "metadata": {},
   "outputs": [
    {
     "name": "stdout",
     "output_type": "stream",
     "text": [
      "False\n",
      "True\n",
      "False\n",
      "False\n",
      "False\n",
      "False\n",
      "False\n",
      "True\n"
     ]
    }
   ],
   "source": [
    "# Python program to illustrate\n",
    "# built-in method bool()\n",
    "\n",
    "# Returns False as x is False\n",
    "x = False\n",
    "print(bool(x))\n",
    "\n",
    "# Returns True as x is True\n",
    "x = True\n",
    "print(bool(x))\n",
    "\n",
    "# Returns False as x is not equal to y\n",
    "x = 5\n",
    "y = 10\n",
    "print(bool(x==y))\n",
    "\n",
    "# Returns False as x is None\n",
    "x = None\n",
    "print(bool(x))\n",
    "\n",
    "# Returns False as x is an empty sequence\n",
    "x = ()\n",
    "print(bool(x))\n",
    "\n",
    "# Returns False as x is an empty mapping\n",
    "x = {}\n",
    "print(bool(x))\n",
    "\n",
    "# Returns False as x is 0\n",
    "x = 0.0\n",
    "print(bool(x))\n",
    "\n",
    "# Returns True as x is a non empty string\n",
    "x = 'Python'\n",
    "print(bool(x))"
   ]
  },
  {
   "cell_type": "markdown",
   "id": "807aa112",
   "metadata": {},
   "source": [
    "# Format"
   ]
  },
  {
   "cell_type": "code",
   "execution_count": 2,
   "id": "4ac7d13e",
   "metadata": {},
   "outputs": [
    {
     "name": "stdout",
     "output_type": "stream",
     "text": [
      "For only 49.00 dollars!\n"
     ]
    }
   ],
   "source": [
    "# format() function\n",
    "txt = \"For only {price:.2f} dollars!\"\n",
    "print(txt.format(price = 49))\n"
   ]
  },
  {
   "cell_type": "code",
   "execution_count": 3,
   "id": "59409858",
   "metadata": {},
   "outputs": [
    {
     "name": "stdout",
     "output_type": "stream",
     "text": [
      "My name is John, I'm 36\n",
      "My name is John, I'm 36\n",
      "My name is John, I'm 36\n"
     ]
    }
   ],
   "source": [
    "# Placeholder\n",
    "\n",
    "#named indexes:\n",
    "txt1 = \"My name is {fname}, I'm {age}\".format(fname = \"John\", age = 36)\n",
    "#numbered indexes:\n",
    "txt2 = \"My name is {0}, I'm {1}\".format(\"John\",36)\n",
    "#empty placeholders:\n",
    "txt3 = \"My name is {}, I'm {}\".format(\"John\",36)\n",
    "\n",
    "print(txt1)\n",
    "print(txt2)\n",
    "print(txt3)"
   ]
  },
  {
   "cell_type": "code",
   "execution_count": 4,
   "id": "5afc8311",
   "metadata": {},
   "outputs": [
    {
     "name": "stdout",
     "output_type": "stream",
     "text": [
      "We have 49       chickens.\n"
     ]
    }
   ],
   "source": [
    "# left-align \n",
    "#To demonstrate, we insert the number 8 to set the available space for the value to 8 characters.\n",
    "\n",
    "#Use \"<\" to left-align the value:\n",
    "\n",
    "txt = \"We have {:<8} chickens.\"\n",
    "print(txt.format(49))\n"
   ]
  },
  {
   "cell_type": "code",
   "execution_count": 7,
   "id": "cf2ec0bd",
   "metadata": {},
   "outputs": [
    {
     "name": "stdout",
     "output_type": "stream",
     "text": [
      "We have       49 chickens.\n"
     ]
    }
   ],
   "source": [
    "# right-align \n",
    "#To demonstrate, we insert the number 8 to set the available space for the value to 8 characters.\n",
    "\n",
    "#Use \">\" to right-align the value:\n",
    "\n",
    "txt = \"We have {:>8} chickens.\"\n",
    "print(txt.format(49))\n",
    "\n"
   ]
  },
  {
   "cell_type": "code",
   "execution_count": 6,
   "id": "e6e4179f",
   "metadata": {},
   "outputs": [
    {
     "name": "stdout",
     "output_type": "stream",
     "text": [
      "We have    49    chickens.\n"
     ]
    }
   ],
   "source": [
    "#Center-align\n",
    "#To demonstrate, we insert the number 8 to set the available space for the value to 8 characters.\n",
    "\n",
    "#Use \"^\" to center-align the value:\n",
    "\n",
    "txt = \"We have {:^8} chickens.\"\n",
    "print(txt.format(49))"
   ]
  },
  {
   "cell_type": "code",
   "execution_count": 8,
   "id": "cbd04a19",
   "metadata": {},
   "outputs": [
    {
     "name": "stdout",
     "output_type": "stream",
     "text": [
      "The temperature is -      5 degrees celsius.\n"
     ]
    }
   ],
   "source": [
    "#To demonstrate, we insert the number 8 to specify the available space for the value.\n",
    "\n",
    "#Use \"=\" to place the plus/minus sign at the left most position:\n",
    "\n",
    "txt = \"The temperature is {:=8} degrees celsius.\"\n",
    "\n",
    "print(txt.format(-5))"
   ]
  },
  {
   "cell_type": "code",
   "execution_count": 9,
   "id": "a8d00339",
   "metadata": {},
   "outputs": [
    {
     "name": "stdout",
     "output_type": "stream",
     "text": [
      "The temperature is between -3 and +7 degrees celsius.\n"
     ]
    }
   ],
   "source": [
    "#Use \"+\" to always indicate if the number is positive or negative:\n",
    "\n",
    "txt = \"The temperature is between {:+} and {:+} degrees celsius.\"\n",
    "\n",
    "print(txt.format(-3, 7))"
   ]
  },
  {
   "cell_type": "code",
   "execution_count": 10,
   "id": "2d72cd3b",
   "metadata": {},
   "outputs": [
    {
     "name": "stdout",
     "output_type": "stream",
     "text": [
      "The temperature is between -3 and  7 degrees celsius.\n"
     ]
    }
   ],
   "source": [
    "#Use \" \" (a space) to insert a space before positive numbers and a minus sign before negative numbers:\n",
    "\n",
    "txt = \"The temperature is between {: } and {: } degrees celsius.\"\n",
    "\n",
    "print(txt.format(-3, 7))\n",
    "\n"
   ]
  },
  {
   "cell_type": "code",
   "execution_count": null,
   "id": "32878213",
   "metadata": {},
   "outputs": [],
   "source": []
  }
 ],
 "metadata": {
  "kernelspec": {
   "display_name": "Python 3",
   "language": "python",
   "name": "python3"
  },
  "language_info": {
   "codemirror_mode": {
    "name": "ipython",
    "version": 3
   },
   "file_extension": ".py",
   "mimetype": "text/x-python",
   "name": "python",
   "nbconvert_exporter": "python",
   "pygments_lexer": "ipython3",
   "version": "3.8.8"
  }
 },
 "nbformat": 4,
 "nbformat_minor": 5
}
