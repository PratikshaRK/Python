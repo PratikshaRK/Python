{
 "cells": [
  {
   "cell_type": "markdown",
   "id": "2fd1fbe8",
   "metadata": {},
   "source": [
    "# List"
   ]
  },
  {
   "cell_type": "code",
   "execution_count": 1,
   "id": "19e87bf9",
   "metadata": {},
   "outputs": [
    {
     "name": "stdout",
     "output_type": "stream",
     "text": [
      "Initial Blank List: \n",
      "[]\n",
      "\n",
      "List with the use of String\n",
      "['Welcome']\n",
      "\n",
      "List containing Multiple values: \n",
      "Welcome\n",
      "Python\n",
      " \n",
      "Multi-Dimensional List\n",
      "['welcome', 'To']\n"
     ]
    }
   ],
   "source": [
    "#Create a Blank List\n",
    "List=[]\n",
    "print(\"Initial Blank List: \")\n",
    "print(List)\n",
    "\n",
    "#Create a List with String\n",
    "List1=['Welcome']\n",
    "print(\"\\nList with the use of String\")\n",
    "print(List1)\n",
    "\n",
    "#Create a List With Multiple Values\n",
    "List2=[\"Welcome\",\"To\",\"Python\"]\n",
    "print(\"\\nList containing Multiple values: \")\n",
    "print(List2[0])\n",
    "print(List2[2])\n",
    "\n",
    "#Create a Multi-Dimensional List\n",
    "List3=[['welcome','To'],['Python']]\n",
    "print(\" \\nMulti-Dimensional List\")\n",
    "print(List3[0])"
   ]
  },
  {
   "cell_type": "markdown",
   "id": "3e4037a9",
   "metadata": {},
   "source": [
    "# Tuple\n",
    "\n",
    "    Tuple is ordered, indexed and immutable datatype.\n",
    "    Duplicate Elements are allowed\n",
    "    Tuple elements is of any type\n",
    "\n"
   ]
  },
  {
   "cell_type": "code",
   "execution_count": 2,
   "id": "3bc31b29",
   "metadata": {},
   "outputs": [
    {
     "name": "stdout",
     "output_type": "stream",
     "text": [
      "Initial empty Tuple: \n",
      "()\n",
      "\n",
      "Tuple with the use of String: \n",
      "('Geeks', 'For')\n",
      "[1, 2, 3, 4]\n",
      "\n",
      "Tuple using list\n",
      "(1, 2, 3, 4)\n",
      "\n",
      "Tuple with the use of built-in function\n",
      "('G', 'e', 'e', 'k', 's')\n",
      "\n",
      "Tuple with nested tuples\n",
      "((0, 1, 2, 3), ('python', 'geek'))\n"
     ]
    }
   ],
   "source": [
    "# Creating an empty tuple\n",
    "Tuple1 = ()\n",
    "print(\"Initial empty Tuple: \")\n",
    "print (Tuple1)\n",
    "\t\n",
    "# Creating a Tuple with\n",
    "# the use of Strings\n",
    "Tuple1 = ('Geeks', 'For')\n",
    "print(\"\\nTuple with the use of String: \")\n",
    "print(Tuple1)\n",
    "\t\n",
    "list1=[1,2,3,4]\n",
    "print(list1)\n",
    "print(\"\\nTuple using list\")\n",
    "print(tuple(list1))\n",
    "\n",
    "#creating a Tuple with the use of built-in function\n",
    "Tuple1=tuple('Geeks')\n",
    "print(\"\\nTuple with the use of built-in function\")\n",
    "print(Tuple1)\n",
    "\n",
    "#Creating a Tuple with nested tuples\n",
    "Tuple1=(0,1,2,3)\n",
    "Tuple2=('python','geek')\n",
    "Tuple3=(Tuple1,Tuple2)\n",
    "print(\"\\nTuple with nested tuples\")\n",
    "print(Tuple3)"
   ]
  },
  {
   "cell_type": "code",
   "execution_count": null,
   "id": "30c5db2b",
   "metadata": {},
   "outputs": [],
   "source": []
  }
 ],
 "metadata": {
  "kernelspec": {
   "display_name": "Python 3",
   "language": "python",
   "name": "python3"
  },
  "language_info": {
   "codemirror_mode": {
    "name": "ipython",
    "version": 3
   },
   "file_extension": ".py",
   "mimetype": "text/x-python",
   "name": "python",
   "nbconvert_exporter": "python",
   "pygments_lexer": "ipython3",
   "version": "3.8.8"
  }
 },
 "nbformat": 4,
 "nbformat_minor": 5
}
