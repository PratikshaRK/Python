{
 "cells": [
  {
   "cell_type": "markdown",
   "id": "b503b3e7",
   "metadata": {},
   "source": [
    "# VARIABLE"
   ]
  },
  {
   "cell_type": "code",
   "execution_count": 2,
   "id": "de7ffe52",
   "metadata": {
    "scrolled": true
   },
   "outputs": [
    {
     "name": "stdout",
     "output_type": "stream",
     "text": [
      "Type of a: <class 'int'>\n",
      "Type of b <class 'float'>\n",
      "Type of c <class 'complex'>\n",
      "85\n",
      "85\n",
      "85\n",
      "77\n",
      "88\n",
      "99\n"
     ]
    }
   ],
   "source": [
    "a=5\n",
    "print(\"Type of a:\",type(a))\n",
    "b=4.2\n",
    "print(\"Type of b\",type(b))\n",
    "c=2+2j\n",
    "print(\"Type of c\",type(c))\n",
    "\n",
    "#Initializing multiple variable with single value\n",
    "Sneha_mark=Anjali_mark=Sahil_mark=85\n",
    "print(Sneha_mark)\n",
    "print(Anjali_mark)\n",
    "print(Sahil_mark)\n",
    "\n",
    "#Initializing multiple variable with multiple value\n",
    "Sneha_mark,Anjali_mark,Sahil_mark=77,88,99\n",
    "print(Sneha_mark)\n",
    "print(Anjali_mark)\n",
    "print(Sahil_mark)"
   ]
  },
  {
   "cell_type": "code",
   "execution_count": 10,
   "id": "3750039f",
   "metadata": {},
   "outputs": [
    {
     "ename": "SyntaxError",
     "evalue": "invalid syntax (<ipython-input-10-c76f18272e88>, line 8)",
     "output_type": "error",
     "traceback": [
      "\u001b[0;36m  File \u001b[0;32m\"<ipython-input-10-c76f18272e88>\"\u001b[0;36m, line \u001b[0;32m8\u001b[0m\n\u001b[0;31m    123name=\"Bhavesh\" #invalid beacause variable name does not start with numbers\u001b[0m\n\u001b[0m       ^\u001b[0m\n\u001b[0;31mSyntaxError\u001b[0m\u001b[0;31m:\u001b[0m invalid syntax\n"
     ]
    }
   ],
   "source": [
    "# Valid or invalid Variables\n",
    "#  Variable is name given to reserved memory location \n",
    "# to store a value(int, float, complex, bytes, str etc)\n",
    "name123=\"Bhavesh\" #valid\n",
    "name_Student=\"Bhavesh\" #valid\n",
    "_nameStudent=\"bhavesh\" #valid\n",
    "name@=\"bhavesh\" #invalid only underscore is allow\n",
    "123name=\"Bhavesh\" #invalid beacause variable name does not start with numbers"
   ]
  },
  {
   "cell_type": "code",
   "execution_count": 18,
   "id": "4777557c",
   "metadata": {},
   "outputs": [
    {
     "name": "stdout",
     "output_type": "stream",
     "text": [
      "Python is easy to learn\n",
      "Python is easy tounderstand\n",
      "Python is easy to understand\n"
     ]
    }
   ],
   "source": [
    "# How to ouput a variable?\n",
    "# varible can be displayed using print with  +/,symbol\n",
    "\n",
    "str1=\"learn\"\n",
    "print(\"Python is easy to\",str1)\n",
    "str2=\"understand\"\n",
    "print(\"Python is easy to\"+str2)\n",
    "print(\"Python is easy to\"+\" \"+str2)\n"
   ]
  },
  {
   "cell_type": "code",
   "execution_count": 26,
   "id": "69b83e28",
   "metadata": {},
   "outputs": [
    {
     "name": "stdout",
     "output_type": "stream",
     "text": [
      "Hello World\n",
      "27\n",
      "35\n",
      "7.5\n",
      "9.2\n",
      "<class 'int'>\n",
      "<class 'str'>\n"
     ]
    },
    {
     "ename": "TypeError",
     "evalue": "can only concatenate str (not \"int\") to str",
     "output_type": "error",
     "traceback": [
      "\u001b[0;31m---------------------------------------------------------------------------\u001b[0m",
      "\u001b[0;31mTypeError\u001b[0m                                 Traceback (most recent call last)",
      "\u001b[0;32m<ipython-input-26-90f48f072f07>\u001b[0m in \u001b[0;36m<module>\u001b[0;34m\u001b[0m\n\u001b[1;32m     35\u001b[0m \u001b[0mprint\u001b[0m\u001b[0;34m(\u001b[0m\u001b[0mtype\u001b[0m\u001b[0;34m(\u001b[0m\u001b[0mage\u001b[0m\u001b[0;34m)\u001b[0m\u001b[0;34m)\u001b[0m\u001b[0;34m\u001b[0m\u001b[0;34m\u001b[0m\u001b[0m\n\u001b[1;32m     36\u001b[0m \u001b[0mprint\u001b[0m\u001b[0;34m(\u001b[0m\u001b[0mtype\u001b[0m\u001b[0;34m(\u001b[0m\u001b[0mname\u001b[0m\u001b[0;34m)\u001b[0m\u001b[0;34m)\u001b[0m\u001b[0;34m\u001b[0m\u001b[0;34m\u001b[0m\u001b[0m\n\u001b[0;32m---> 37\u001b[0;31m \u001b[0mprint\u001b[0m\u001b[0;34m(\u001b[0m\u001b[0mname\u001b[0m\u001b[0;34m+\u001b[0m\u001b[0mage\u001b[0m\u001b[0;34m)\u001b[0m\u001b[0;34m\u001b[0m\u001b[0;34m\u001b[0m\u001b[0m\n\u001b[0m",
      "\u001b[0;31mTypeError\u001b[0m: can only concatenate str (not \"int\") to str"
     ]
    }
   ],
   "source": [
    "# if both variables are string it will concate\n",
    "str1=\"Hello\"\n",
    "str2=\" World\"\n",
    "str3=str1+str2\n",
    "print(str3)\n",
    "\n",
    "# if both variables are int, it will add\n",
    "n1=23\n",
    "n2=4\n",
    "n3=n1+n2\n",
    "print(n3)\n",
    "\n",
    "# if both variables are string it will concate\n",
    "n1=\"3\"\n",
    "n2=\"5\"\n",
    "n3=n1+n2\n",
    "print(n3)\n",
    "\n",
    "# float + int = float\n",
    "n1=4.5\n",
    "n2=3\n",
    "n3=n1+n2\n",
    "print(n3)\n",
    "\n",
    "#int + float = float\n",
    "n1=5\n",
    "n2=4.2\n",
    "n3=n1+n2\n",
    "print(n3)\n",
    "\n",
    "# if 1 variable is string and 1 variable in number,\n",
    "# TypeError will be generated\n",
    "age=23\n",
    "name=\"amol\"\n",
    "print(type(age))\n",
    "print(type(name))\n",
    "print(name+age)"
   ]
  },
  {
   "cell_type": "markdown",
   "id": "6d082f89",
   "metadata": {},
   "source": [
    "# Global variables and Local Variables"
   ]
  },
  {
   "cell_type": "code",
   "execution_count": 27,
   "id": "82cb1d70",
   "metadata": {},
   "outputs": [],
   "source": [
    "# Global variable is created outside all functions \n",
    "# (normally at top)so it will be accessible to all functions\n",
    "\n",
    "# Local Variable -local variable is variable which is created \n",
    "# inside function, it will not be accessed outside the scope\n",
    "#(same function)"
   ]
  },
  {
   "cell_type": "code",
   "execution_count": 31,
   "id": "f3dd1b19",
   "metadata": {},
   "outputs": [
    {
     "name": "stdout",
     "output_type": "stream",
     "text": [
      "Wonderful Weather\n"
     ]
    }
   ],
   "source": [
    "str3=\"Weather\" #Global variable\n",
    "#create function\n",
    "def fun1():\n",
    "    print(\"Wonderful\",str3)\n",
    "fun1()    #function call"
   ]
  },
  {
   "cell_type": "code",
   "execution_count": 33,
   "id": "0f80434b",
   "metadata": {},
   "outputs": [
    {
     "name": "stdout",
     "output_type": "stream",
     "text": [
      "Wonderful1 Weather\n"
     ]
    },
    {
     "ename": "NameError",
     "evalue": "name 'str4' is not defined",
     "output_type": "error",
     "traceback": [
      "\u001b[0;31m---------------------------------------------------------------------------\u001b[0m",
      "\u001b[0;31mNameError\u001b[0m                                 Traceback (most recent call last)",
      "\u001b[0;32m<ipython-input-33-4a29d1b1d175>\u001b[0m in \u001b[0;36m<module>\u001b[0;34m\u001b[0m\n\u001b[1;32m      3\u001b[0m     \u001b[0mprint\u001b[0m\u001b[0;34m(\u001b[0m\u001b[0;34m\"Wonderful1\"\u001b[0m\u001b[0;34m,\u001b[0m\u001b[0mstr4\u001b[0m\u001b[0;34m)\u001b[0m \u001b[0;31m#accessing from inside the function\u001b[0m\u001b[0;34m\u001b[0m\u001b[0;34m\u001b[0m\u001b[0m\n\u001b[1;32m      4\u001b[0m \u001b[0mfun2\u001b[0m\u001b[0;34m(\u001b[0m\u001b[0;34m)\u001b[0m\u001b[0;34m\u001b[0m\u001b[0;34m\u001b[0m\u001b[0m\n\u001b[0;32m----> 5\u001b[0;31m \u001b[0mprint\u001b[0m\u001b[0;34m(\u001b[0m\u001b[0;34m\"Wonderful2\"\u001b[0m\u001b[0;34m,\u001b[0m\u001b[0mstr4\u001b[0m\u001b[0;34m)\u001b[0m \u001b[0;31m#accessing from outside the function\u001b[0m\u001b[0;34m\u001b[0m\u001b[0;34m\u001b[0m\u001b[0m\n\u001b[0m",
      "\u001b[0;31mNameError\u001b[0m: name 'str4' is not defined"
     ]
    }
   ],
   "source": [
    "def fun2():\n",
    "    str4=\"Weather\" #local variable\n",
    "    print(\"Wonderful1\",str4) #accessing from inside the function\n",
    "fun2()\n",
    "print(\"Wonderful2\",str4) #accessing from outside the function"
   ]
  },
  {
   "cell_type": "code",
   "execution_count": 34,
   "id": "fd720966",
   "metadata": {},
   "outputs": [
    {
     "name": "stdout",
     "output_type": "stream",
     "text": [
      "This is local variable\n"
     ]
    }
   ],
   "source": [
    "# using Global keyword we can make local variable global\n",
    "def fun3():\n",
    "    global str5\n",
    "    str5=\"This is local variable\"\n",
    "fun3()\n",
    "print(str5)"
   ]
  },
  {
   "cell_type": "code",
   "execution_count": 35,
   "id": "b20db10f",
   "metadata": {},
   "outputs": [
    {
     "name": "stdout",
     "output_type": "stream",
     "text": [
      "hello\n"
     ]
    }
   ],
   "source": [
    "# we can modify global variable from function also using global kwrd\n",
    "str66=\"hi\"\n",
    "def fun5():\n",
    "    global str66\n",
    "    str66=\"hello\"\n",
    "fun5()\n",
    "print(str66)"
   ]
  },
  {
   "cell_type": "markdown",
   "id": "ead17963",
   "metadata": {},
   "source": [
    "# Datatypes"
   ]
  },
  {
   "cell_type": "code",
   "execution_count": 47,
   "id": "9b06cd88",
   "metadata": {},
   "outputs": [
    {
     "name": "stdout",
     "output_type": "stream",
     "text": [
      "This is a string\n",
      "<class 'str'>\n",
      "20\n",
      "<class 'int'>\n",
      "3.5\n",
      "<class 'float'>\n",
      "(21+3j)\n",
      "<class 'complex'>\n",
      "['Hello', 12, 13, 'Hii']\n",
      "<class 'list'>\n",
      "('mango', 'banana', 'Apple')\n",
      "<class 'tuple'>\n",
      "{24, 'samir', 'neha', 45}\n",
      "<class 'set'>\n",
      "{'name': 'prathamesh', 'age': 23}\n",
      "<class 'dict'>\n",
      "range(0, 5)\n",
      "<class 'range'>\n",
      "frozenset({'apple', 'mango', 'banana', 'grapes'})\n",
      "<class 'frozenset'>\n",
      "True\n",
      "<class 'bool'>\n",
      "b'Hello'\n",
      "<class 'bytes'>\n",
      "bytearray(b'\\x00\\x00\\x00\\x00\\x00')\n",
      "<class 'bytearray'>\n",
      "<memory at 0x7f6d60632e80>\n",
      "<class 'memoryview'>\n"
     ]
    }
   ],
   "source": [
    "x=\"This is a string\" #string\n",
    "print(x)\n",
    "print(type(x))\n",
    "y=20    #int\n",
    "print(y)\n",
    "print(type(y))\n",
    "z=3.5   #float\n",
    "print(z)\n",
    "print(type(z))\n",
    "a=21+3j #complex\n",
    "print(a)\n",
    "print(type(a))\n",
    "b=[\"Hello\",12,13,\"Hii\"]  #list\n",
    "print(b)\n",
    "print(type(b))\n",
    "c=(\"mango\",\"banana\",\"Apple\")  #Tuple\n",
    "print(c)\n",
    "print(type(c))\n",
    "d={\"neha\",\"samir\",24,45}  #set\n",
    "print(d)\n",
    "print(type(d))\n",
    "e={\"name\":\"prathamesh\",\"age\":23}  #dictionary\n",
    "print(e)\n",
    "print(type(e))\n",
    "f=range(5) #range\n",
    "print(f)\n",
    "print(type(f))\n",
    "g=frozenset({\"mango\",\"banana\",\"grapes\",\"apple\"}) #frozenset\n",
    "print(g)\n",
    "print(type(g))\n",
    "h=True #boolean\n",
    "print(h)\n",
    "print(type(h))\n",
    "i=b\"Hello\"   # bytes\n",
    "print(i)\n",
    "print(type(i))\n",
    "j=bytearray(5)   # bytesarray\n",
    "print(j)\n",
    "print(type(j))\n",
    "k=memoryview(bytes(5))   # memoryview\n",
    "print(k)\n",
    "print(type(k))"
   ]
  },
  {
   "cell_type": "code",
   "execution_count": 1,
   "id": "90f285ea",
   "metadata": {},
   "outputs": [
    {
     "data": {
      "text/plain": [
       "737653756784367842658634856883684589769347589748356794754799479479547674979475"
      ]
     },
     "execution_count": 1,
     "metadata": {},
     "output_type": "execute_result"
    }
   ],
   "source": [
    "# There is No restriction for variable for its size of data\n",
    "num=737653756784367842658634856883684589769347589748356794754799479479547674979475\n",
    "num"
   ]
  },
  {
   "cell_type": "code",
   "execution_count": 2,
   "id": "c9a4acf9",
   "metadata": {},
   "outputs": [
    {
     "name": "stdout",
     "output_type": "stream",
     "text": [
      "<class 'float'>\n",
      "94.65\n",
      "<class 'int'>\n",
      "94\n",
      "<class 'float'>\n",
      "94.0\n"
     ]
    }
   ],
   "source": [
    "percentage=94.65\n",
    "print(type(percentage))\n",
    "print(percentage)\n",
    "\n",
    "intconvert=int(percentage)\n",
    "print(type(intconvert))\n",
    "print(intconvert)\n",
    "\n",
    "floatconvert=float(intconvert)\n",
    "print(type(floatconvert))\n",
    "print(floatconvert)\n"
   ]
  },
  {
   "cell_type": "code",
   "execution_count": 3,
   "id": "67076412",
   "metadata": {},
   "outputs": [],
   "source": [
    "## How to take input from user?\n",
    "## input()- Python 3.x and raw_input()- Python 2.x"
   ]
  },
  {
   "cell_type": "markdown",
   "id": "0b5333dd",
   "metadata": {},
   "source": [
    "### Write a simple Calculator Program"
   ]
  },
  {
   "cell_type": "code",
   "execution_count": 5,
   "id": "eb14dd69",
   "metadata": {},
   "outputs": [
    {
     "name": "stdout",
     "output_type": "stream",
     "text": [
      "--------------------------------\n",
      "welcome to calculator\n",
      "--------------------------------\n",
      "Enter First no:23\n",
      "Enter Second No:4\n",
      "\t1.Add\t2.Sub\t3.Mul\t4.Div\t5.Modulus\n",
      "Enter the Choice:\n",
      "2\n",
      "Subtraction is = 19\n"
     ]
    }
   ],
   "source": [
    "print(\"--------------------------------\")\n",
    "print(\"welcome to calculator\")\n",
    "print(\"--------------------------------\")\n",
    "print(\"Enter First no:\",end=\"\")\n",
    "num1=input()\n",
    "num2=input(\"Enter Second No:\")\n",
    "num1=int(num1) #string converting in int\n",
    "num2=int(num2) #string converting in int\n",
    "print(\"\\t1.Add\\t2.Sub\\t3.Mul\\t4.Div\\t5.Modulus\") #\\t means tab\n",
    "print(\"Enter the Choice:\")\n",
    "choice=input()\n",
    "choice=int(choice)\n",
    "if(choice==1):\n",
    "    print(\"Addition is =\",num1+num2)\n",
    "elif(choice==2):\n",
    "    print(\"Subtraction is =\",num1-num2)\n",
    "elif(choice==3):\n",
    "    print(\"Multiplication is =\",num1*num2)\n",
    "elif(choice==4):\n",
    "    print(\"Division is =\",num1/num2)\n",
    "elif(choice==5):\n",
    "    print(\"Remainder is =\",num1%num2)\n",
    "else:\n",
    "    print(\"Invalid Choice\")"
   ]
  },
  {
   "cell_type": "code",
   "execution_count": 7,
   "id": "ac47af10",
   "metadata": {},
   "outputs": [
    {
     "name": "stdout",
     "output_type": "stream",
     "text": [
      "4\n"
     ]
    },
    {
     "data": {
      "text/plain": [
       "str"
      ]
     },
     "execution_count": 7,
     "metadata": {},
     "output_type": "execute_result"
    }
   ],
   "source": [
    "# default type of input taken from user is string\n",
    "num1=input()\n",
    "type(num1)"
   ]
  },
  {
   "cell_type": "code",
   "execution_count": 14,
   "id": "ed14b373",
   "metadata": {},
   "outputs": [
    {
     "name": "stdout",
     "output_type": "stream",
     "text": [
      "<class 'float'>\n",
      "<class 'float'>\n",
      "<class 'float'>\n",
      "<class 'float'>\n",
      "<class 'float'>\n",
      "<class 'float'>\n",
      "35000.0\n",
      "120000.0\n",
      "-8.77e+101\n"
     ]
    }
   ],
   "source": [
    "x = 1.10\n",
    "y = 1.0\n",
    "z = -35.59\n",
    "print(type(x))\n",
    "print(type(y))\n",
    "print(type(z))\n",
    "\n",
    "x = 35e3\n",
    "y = 12E4\n",
    "z = -87.7e100\n",
    "print(type(x))\n",
    "print(type(y))\n",
    "print(type(z))\n",
    "print(x)\n",
    "print(y)\n",
    "print(z)"
   ]
  },
  {
   "cell_type": "code",
   "execution_count": 15,
   "id": "5b502ca9",
   "metadata": {},
   "outputs": [
    {
     "name": "stdout",
     "output_type": "stream",
     "text": [
      "<class 'complex'>\n",
      "<class 'complex'>\n",
      "<class 'complex'>\n"
     ]
    }
   ],
   "source": [
    "x = 3+5j\n",
    "y = 5j\n",
    "z = -5j\n",
    "print(type(x))\n",
    "print(type(y))\n",
    "print(type(z))"
   ]
  },
  {
   "cell_type": "code",
   "execution_count": 16,
   "id": "4bd1a1da",
   "metadata": {},
   "outputs": [
    {
     "name": "stdout",
     "output_type": "stream",
     "text": [
      "['apple', 'banana', 'grapes', 'orange']\n",
      "['apple', 'kiwy', 'grapes', 'orange']\n"
     ]
    },
    {
     "ename": "TypeError",
     "evalue": "'frozenset' object does not support item assignment",
     "output_type": "error",
     "traceback": [
      "\u001b[0;31m---------------------------------------------------------------------------\u001b[0m",
      "\u001b[0;31mTypeError\u001b[0m                                 Traceback (most recent call last)",
      "\u001b[0;32m<ipython-input-16-d6f61772c7b2>\u001b[0m in \u001b[0;36m<module>\u001b[0;34m\u001b[0m\n\u001b[1;32m      5\u001b[0m \u001b[0mprint\u001b[0m\u001b[0;34m(\u001b[0m\u001b[0mfruitlist\u001b[0m\u001b[0;34m)\u001b[0m\u001b[0;34m\u001b[0m\u001b[0;34m\u001b[0m\u001b[0m\n\u001b[1;32m      6\u001b[0m \u001b[0mmyfruitlist\u001b[0m\u001b[0;34m=\u001b[0m\u001b[0mfrozenset\u001b[0m\u001b[0;34m(\u001b[0m\u001b[0mfruitlist\u001b[0m\u001b[0;34m)\u001b[0m\u001b[0;34m\u001b[0m\u001b[0;34m\u001b[0m\u001b[0m\n\u001b[0;32m----> 7\u001b[0;31m \u001b[0mmyfruitlist\u001b[0m\u001b[0;34m[\u001b[0m\u001b[0;36m3\u001b[0m\u001b[0;34m]\u001b[0m\u001b[0;34m=\u001b[0m\u001b[0;34m\"coconuts\"\u001b[0m\u001b[0;34m\u001b[0m\u001b[0;34m\u001b[0m\u001b[0m\n\u001b[0m",
      "\u001b[0;31mTypeError\u001b[0m: 'frozenset' object does not support item assignment"
     ]
    }
   ],
   "source": [
    "### frozonset will make object unchangeable\n",
    "fruitlist=[\"apple\",\"banana\",\"grapes\",\"orange\"]\n",
    "print(fruitlist)\n",
    "fruitlist[1]=\"kiwy\"\n",
    "print(fruitlist)\n",
    "myfruitlist=frozenset(fruitlist)\n",
    "myfruitlist[3]=\"coconuts\""
   ]
  },
  {
   "cell_type": "code",
   "execution_count": 17,
   "id": "9af23813",
   "metadata": {},
   "outputs": [
    {
     "name": "stdout",
     "output_type": "stream",
     "text": [
      "Package                            Version\n",
      "---------------------------------- -------------------\n",
      "alabaster                          0.7.12\n",
      "anaconda-client                    1.7.2\n",
      "anaconda-navigator                 2.0.3\n",
      "anaconda-project                   0.9.1\n",
      "anyio                              2.2.0\n",
      "appdirs                            1.4.4\n",
      "argh                               0.26.2\n",
      "argon2-cffi                        20.1.0\n",
      "asn1crypto                         1.4.0\n",
      "astroid                            2.5\n",
      "astropy                            4.2.1\n",
      "async-generator                    1.10\n",
      "atomicwrites                       1.4.0\n",
      "attrs                              20.3.0\n",
      "autopep8                           1.5.6\n",
      "Babel                              2.9.0\n",
      "backcall                           0.2.0\n",
      "backports.functools-lru-cache      1.6.4\n",
      "backports.shutil-get-terminal-size 1.0.0\n",
      "backports.tempfile                 1.0\n",
      "backports.weakref                  1.0.post1\n",
      "beautifulsoup4                     4.9.3\n",
      "bitarray                           2.1.0\n",
      "bkcharts                           0.2\n",
      "black                              19.10b0\n",
      "bleach                             3.3.0\n",
      "bokeh                              2.3.2\n",
      "boto                               2.49.0\n",
      "Bottleneck                         1.3.2\n",
      "brotlipy                           0.7.0\n",
      "certifi                            2020.12.5\n",
      "cffi                               1.14.5\n",
      "chardet                            4.0.0\n",
      "click                              7.1.2\n",
      "cloudpickle                        1.6.0\n",
      "clyent                             1.2.2\n",
      "colorama                           0.4.4\n",
      "conda                              4.10.1\n",
      "conda-build                        3.21.4\n",
      "conda-content-trust                0+unknown\n",
      "conda-package-handling             1.7.3\n",
      "conda-repo-cli                     1.0.4\n",
      "conda-token                        0.3.0\n",
      "conda-verify                       3.4.2\n",
      "contextlib2                        0.6.0.post1\n",
      "cryptography                       3.4.7\n",
      "cycler                             0.10.0\n",
      "Cython                             0.29.23\n",
      "cytoolz                            0.11.0\n",
      "dask                               2021.4.0\n",
      "decorator                          5.0.6\n",
      "defusedxml                         0.7.1\n",
      "diff-match-patch                   20200713\n",
      "distributed                        2021.4.1\n",
      "docutils                           0.17.1\n",
      "entrypoints                        0.3\n",
      "et-xmlfile                         1.0.1\n",
      "fastcache                          1.1.0\n",
      "filelock                           3.0.12\n",
      "flake8                             3.9.0\n",
      "Flask                              1.1.2\n",
      "fsspec                             0.9.0\n",
      "future                             0.18.2\n",
      "gevent                             21.1.2\n",
      "glob2                              0.7\n",
      "gmpy2                              2.0.8\n",
      "greenlet                           1.0.0\n",
      "h5py                               2.10.0\n",
      "HeapDict                           1.0.1\n",
      "html5lib                           1.1\n",
      "idna                               2.10\n",
      "imageio                            2.9.0\n",
      "imagesize                          1.2.0\n",
      "importlib-metadata                 3.10.0\n",
      "iniconfig                          1.1.1\n",
      "intervaltree                       3.1.0\n",
      "ipykernel                          5.3.4\n",
      "ipython                            7.22.0\n",
      "ipython-genutils                   0.2.0\n",
      "ipywidgets                         7.6.3\n",
      "isort                              5.8.0\n",
      "itsdangerous                       1.1.0\n",
      "jdcal                              1.4.1\n",
      "jedi                               0.17.2\n",
      "jeepney                            0.6.0\n",
      "Jinja2                             2.11.3\n",
      "joblib                             1.0.1\n",
      "json5                              0.9.5\n",
      "jsonschema                         3.2.0\n",
      "jupyter                            1.0.0\n",
      "jupyter-client                     6.1.12\n",
      "jupyter-console                    6.4.0\n",
      "jupyter-core                       4.7.1\n",
      "jupyter-packaging                  0.7.12\n",
      "jupyter-server                     1.4.1\n",
      "jupyterlab                         3.0.14\n",
      "jupyterlab-pygments                0.1.2\n",
      "jupyterlab-server                  2.4.0\n",
      "jupyterlab-widgets                 1.0.0\n",
      "keyring                            22.3.0\n",
      "kiwisolver                         1.3.1\n",
      "lazy-object-proxy                  1.6.0\n",
      "libarchive-c                       2.9\n",
      "llvmlite                           0.36.0\n",
      "locket                             0.2.1\n",
      "lxml                               4.6.3\n",
      "MarkupSafe                         1.1.1\n",
      "matplotlib                         3.3.4\n",
      "mccabe                             0.6.1\n",
      "mistune                            0.8.4\n",
      "mkl-fft                            1.3.0\n",
      "mkl-random                         1.2.1\n",
      "mkl-service                        2.3.0\n",
      "mock                               4.0.3\n",
      "more-itertools                     8.7.0\n",
      "mpmath                             1.2.1\n",
      "msgpack                            1.0.2\n",
      "multipledispatch                   0.6.0\n",
      "mypy-extensions                    0.4.3\n",
      "navigator-updater                  0.2.1\n",
      "nbclassic                          0.2.6\n",
      "nbclient                           0.5.3\n",
      "nbconvert                          6.0.7\n",
      "nbformat                           5.1.3\n",
      "nest-asyncio                       1.5.1\n",
      "networkx                           2.5\n",
      "nltk                               3.6.1\n",
      "nose                               1.3.7\n",
      "notebook                           6.3.0\n",
      "numba                              0.53.1\n",
      "numexpr                            2.7.3\n",
      "numpy                              1.20.1\n",
      "numpydoc                           1.1.0\n",
      "olefile                            0.46\n",
      "openpyxl                           3.0.7\n",
      "packaging                          20.9\n",
      "pandas                             1.2.4\n",
      "pandocfilters                      1.4.3\n",
      "parso                              0.7.0\n",
      "partd                              1.2.0\n",
      "path                               15.1.2\n",
      "pathlib2                           2.3.5\n",
      "pathspec                           0.7.0\n",
      "patsy                              0.5.1\n",
      "pep8                               1.7.1\n",
      "pexpect                            4.8.0\n",
      "pickleshare                        0.7.5\n",
      "Pillow                             8.2.0\n",
      "pip                                21.0.1\n",
      "pkginfo                            1.7.0\n",
      "pluggy                             0.13.1\n",
      "ply                                3.11\n",
      "prometheus-client                  0.10.1\n",
      "prompt-toolkit                     3.0.17\n",
      "psutil                             5.8.0\n",
      "ptyprocess                         0.7.0\n",
      "py                                 1.10.0\n",
      "pycodestyle                        2.6.0\n",
      "pycosat                            0.6.3\n",
      "pycparser                          2.20\n",
      "pycurl                             7.43.0.6\n",
      "pydocstyle                         6.0.0\n",
      "pyerfa                             1.7.3\n",
      "pyflakes                           2.2.0\n",
      "Pygments                           2.8.1\n",
      "pylint                             2.7.4\n",
      "pyls-black                         0.4.6\n",
      "pyls-spyder                        0.3.2\n",
      "pyodbc                             4.0.0-unsupported\n",
      "pyOpenSSL                          20.0.1\n",
      "pyparsing                          2.4.7\n",
      "pyrsistent                         0.17.3\n",
      "PySocks                            1.7.1\n",
      "pytest                             6.2.3\n",
      "python-dateutil                    2.8.1\n",
      "python-jsonrpc-server              0.4.0\n",
      "python-language-server             0.36.2\n",
      "pytz                               2021.1\n",
      "PyWavelets                         1.1.1\n",
      "pyxdg                              0.27\n",
      "PyYAML                             5.4.1\n",
      "pyzmq                              20.0.0\n",
      "QDarkStyle                         2.8.1\n",
      "QtAwesome                          1.0.2\n",
      "qtconsole                          5.0.3\n",
      "QtPy                               1.9.0\n",
      "regex                              2021.4.4\n",
      "requests                           2.25.1\n",
      "rope                               0.18.0\n",
      "Rtree                              0.9.7\n",
      "ruamel-yaml-conda                  0.15.100\n",
      "scikit-image                       0.18.1\n",
      "scikit-learn                       0.24.1\n",
      "scipy                              1.6.2\n",
      "seaborn                            0.11.1\n",
      "SecretStorage                      3.3.1\n",
      "Send2Trash                         1.5.0\n",
      "setuptools                         52.0.0.post20210125\n",
      "simplegeneric                      0.8.1\n",
      "singledispatch                     0.0.0\n",
      "sip                                4.19.13\n",
      "six                                1.15.0\n",
      "sniffio                            1.2.0\n",
      "snowballstemmer                    2.1.0\n",
      "sortedcollections                  2.1.0\n",
      "sortedcontainers                   2.3.0\n",
      "soupsieve                          2.2.1\n",
      "Sphinx                             4.0.1\n",
      "sphinxcontrib-applehelp            1.0.2\n",
      "sphinxcontrib-devhelp              1.0.2\n",
      "sphinxcontrib-htmlhelp             1.0.3\n",
      "sphinxcontrib-jsmath               1.0.1\n",
      "sphinxcontrib-qthelp               1.0.3\n",
      "sphinxcontrib-serializinghtml      1.1.4\n",
      "sphinxcontrib-websupport           1.2.4\n",
      "spyder                             4.2.5\n",
      "spyder-kernels                     1.10.2\n",
      "SQLAlchemy                         1.4.15\n",
      "statsmodels                        0.12.2\n",
      "sympy                              1.8\n",
      "tables                             3.6.1\n",
      "tblib                              1.7.0\n",
      "terminado                          0.9.4\n",
      "testpath                           0.4.4\n",
      "textdistance                       4.2.1\n",
      "threadpoolctl                      2.1.0\n",
      "three-merge                        0.1.1\n",
      "tifffile                           2020.10.1\n",
      "toml                               0.10.2\n",
      "toolz                              0.11.1\n",
      "tornado                            6.1\n",
      "tqdm                               4.59.0\n",
      "traitlets                          5.0.5\n",
      "typed-ast                          1.4.2\n",
      "typing-extensions                  3.7.4.3\n",
      "ujson                              4.0.2\n",
      "unicodecsv                         0.14.1\n",
      "urllib3                            1.26.4\n",
      "watchdog                           1.0.2\n",
      "wcwidth                            0.2.5\n",
      "webencodings                       0.5.1\n",
      "Werkzeug                           1.0.1\n",
      "wheel                              0.36.2\n",
      "widgetsnbextension                 3.5.1\n",
      "wrapt                              1.12.1\n",
      "wurlitzer                          2.1.0\n",
      "xlrd                               2.0.1\n",
      "XlsxWriter                         1.3.8\n",
      "xlwt                               1.3.0\n",
      "xmltodict                          0.12.0\n",
      "yapf                               0.31.0\n",
      "zict                               2.0.0\n",
      "zipp                               3.4.1\n",
      "zope.event                         4.5.0\n",
      "zope.interface                     5.3.0\n"
     ]
    },
    {
     "name": "stdout",
     "output_type": "stream",
     "text": [
      "Note: you may need to restart the kernel to use updated packages.\n"
     ]
    }
   ],
   "source": [
    "pip list"
   ]
  },
  {
   "cell_type": "code",
   "execution_count": 2,
   "id": "b601f438",
   "metadata": {},
   "outputs": [
    {
     "name": "stdout",
     "output_type": "stream",
     "text": [
      "Collecting word2number\n",
      "  Downloading word2number-1.1.zip (9.7 kB)\n",
      "Building wheels for collected packages: word2number\n",
      "  Building wheel for word2number (setup.py) ... \u001b[?25ldone\n",
      "\u001b[?25h  Created wheel for word2number: filename=word2number-1.1-py3-none-any.whl size=5586 sha256=3a0c2448c7bcdb505f120fa006ae2b4d28557960ca87bc55ec4e9ab776e4387d\n",
      "  Stored in directory: /home/pratiksha/.cache/pip/wheels/cb/f3/5a/d88198fdeb46781ddd7e7f2653061af83e7adb2a076d8886d6\n",
      "Successfully built word2number\n",
      "Installing collected packages: word2number\n",
      "Successfully installed word2number-1.1\n",
      "Note: you may need to restart the kernel to use updated packages.\n"
     ]
    }
   ],
   "source": [
    "pip install word2number"
   ]
  },
  {
   "cell_type": "code",
   "execution_count": 3,
   "id": "11b6e145",
   "metadata": {},
   "outputs": [],
   "source": [
    "from word2number import w2n"
   ]
  },
  {
   "cell_type": "code",
   "execution_count": 4,
   "id": "9bbd8c18",
   "metadata": {},
   "outputs": [
    {
     "name": "stdout",
     "output_type": "stream",
     "text": [
      "1034\n"
     ]
    }
   ],
   "source": [
    "print(w2n.word_to_num(\"one thousand thirty four\"))"
   ]
  },
  {
   "cell_type": "code",
   "execution_count": 5,
   "id": "62197566",
   "metadata": {},
   "outputs": [
    {
     "name": "stdout",
     "output_type": "stream",
     "text": [
      "2.3\n"
     ]
    }
   ],
   "source": [
    "print(w2n.word_to_num(\"two point three\"))"
   ]
  },
  {
   "cell_type": "code",
   "execution_count": 6,
   "id": "93e07cd9",
   "metadata": {},
   "outputs": [],
   "source": [
    "# How to Generate random Numbers for lottery Appln\n",
    "import random"
   ]
  },
  {
   "cell_type": "code",
   "execution_count": 7,
   "id": "0197ff0f",
   "metadata": {},
   "outputs": [
    {
     "name": "stdout",
     "output_type": "stream",
     "text": [
      "lottery winner no is:  23\n"
     ]
    }
   ],
   "source": [
    "winner=random.randrange(3,1000)\n",
    "naren=23\n",
    "print(\"lottery winner no is: \",naren)"
   ]
  },
  {
   "cell_type": "code",
   "execution_count": null,
   "id": "bab20d5d",
   "metadata": {},
   "outputs": [],
   "source": []
  }
 ],
 "metadata": {
  "kernelspec": {
   "display_name": "Python 3",
   "language": "python",
   "name": "python3"
  },
  "language_info": {
   "codemirror_mode": {
    "name": "ipython",
    "version": 3
   },
   "file_extension": ".py",
   "mimetype": "text/x-python",
   "name": "python",
   "nbconvert_exporter": "python",
   "pygments_lexer": "ipython3",
   "version": "3.8.8"
  }
 },
 "nbformat": 4,
 "nbformat_minor": 5
}
