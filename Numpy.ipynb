{
 "cells": [
  {
   "cell_type": "markdown",
   "id": "d23236aa",
   "metadata": {},
   "source": [
    "# How to install Numpy - Deafult available in python, if not use pip"
   ]
  },
  {
   "cell_type": "code",
   "execution_count": 2,
   "id": "bdd03661",
   "metadata": {},
   "outputs": [
    {
     "name": "stdout",
     "output_type": "stream",
     "text": [
      "Requirement already satisfied: numpy in /home/pratiksha/anaconda3/lib/python3.8/site-packages (1.20.1)\n",
      "Note: you may need to restart the kernel to use updated packages.\n"
     ]
    }
   ],
   "source": [
    "pip install numpy"
   ]
  },
  {
   "cell_type": "code",
   "execution_count": 3,
   "id": "b5e90e58",
   "metadata": {
    "scrolled": true
   },
   "outputs": [
    {
     "name": "stdout",
     "output_type": "stream",
     "text": [
      "Name: numpy\n",
      "Version: 1.20.1\n",
      "Summary: NumPy is the fundamental package for array computing with Python.\n",
      "Home-page: https://www.numpy.org\n",
      "Author: Travis E. Oliphant et al.\n",
      "Author-email: None\n",
      "License: BSD\n",
      "Location: /home/pratiksha/anaconda3/lib/python3.8/site-packages\n",
      "Requires: \n",
      "Required-by: tifffile, tables, statsmodels, seaborn, scipy, scikit-learn, scikit-image, PyWavelets, pyerfa, patsy, pandas, numexpr, numba, mkl-random, mkl-fft, matplotlib, imageio, h5py, Bottleneck, bokeh, bkcharts, astropy\n",
      "Note: you may need to restart the kernel to use updated packages.\n"
     ]
    }
   ],
   "source": [
    "pip show numpy"
   ]
  },
  {
   "cell_type": "markdown",
   "id": "febffafe",
   "metadata": {},
   "source": [
    "# How to Create an array -\n",
    "1. Generate Array using np.array()\n",
    "\n",
    "    Ordered collection of elements of basic data types of given length\n",
    "    Syntax: numpy.array(object)\n",
    "\n",
    "\n"
   ]
  },
  {
   "cell_type": "code",
   "execution_count": 2,
   "id": "eb473912",
   "metadata": {},
   "outputs": [],
   "source": [
    "import numpy as np"
   ]
  },
  {
   "cell_type": "code",
   "execution_count": 17,
   "id": "43fe24df",
   "metadata": {},
   "outputs": [
    {
     "name": "stdout",
     "output_type": "stream",
     "text": [
      "[10 20 30 40]\n",
      "<class 'numpy.ndarray'>\n",
      "int64\n",
      "<class 'numpy.int64'>\n",
      "<class 'numpy.int64'>\n",
      "<class 'numpy.int64'>\n",
      "<class 'numpy.int64'>\n"
     ]
    }
   ],
   "source": [
    "arr1=np.array([10,20,30,40])\n",
    "print(arr1)\n",
    "#type means type of the arr1 variable\n",
    "print(type(arr1))\n",
    "#dtype means data type of element\n",
    "print(arr1.dtype)\n",
    "print(type(arr1[0]))\n",
    "print(type(arr1[1]))\n",
    "print(type(arr1[2]))\n",
    "print(type(arr1[3]))"
   ]
  },
  {
   "cell_type": "code",
   "execution_count": 16,
   "id": "f87a8c74",
   "metadata": {
    "scrolled": true
   },
   "outputs": [
    {
     "name": "stdout",
     "output_type": "stream",
     "text": [
      "['2' '3' '4' 'x' 'string element']\n",
      "<class 'numpy.ndarray'>\n",
      "<U21\n",
      "<class 'numpy.str_'>\n",
      "<class 'numpy.str_'>\n",
      "<class 'numpy.str_'>\n",
      "<class 'numpy.str_'>\n",
      "<class 'numpy.str_'>\n"
     ]
    }
   ],
   "source": [
    "arr1=np.array([2,3,4,'x',\"string element\"])\n",
    "print(arr1)\n",
    "print(type(arr1))\n",
    "print(arr1.dtype)\n",
    "print(type(arr1[0]))\n",
    "print(type(arr1[1]))\n",
    "print(type(arr1[2]))\n",
    "print(type(arr1[3]))\n",
    "print(type(arr1[4]))"
   ]
  },
  {
   "cell_type": "code",
   "execution_count": 136,
   "id": "d35432a9",
   "metadata": {},
   "outputs": [
    {
     "name": "stdout",
     "output_type": "stream",
     "text": [
      "50\n",
      "0\n"
     ]
    }
   ],
   "source": [
    "# Max-Min\n",
    "import numpy\n",
    "\n",
    "# creating a numpy array of integers\n",
    "arr=np.array([1,2,4,50,0])\n",
    "print(np.max(arr))\n",
    "print(np.min(arr))"
   ]
  },
  {
   "cell_type": "markdown",
   "id": "5f851bb7",
   "metadata": {},
   "source": [
    "# 2. Generate Array using linespace\n",
    "\n",
    "    numpy.linspace()- returns equally spaced numbers within the given range based on the sample number\n",
    "    Syntax:numpy.linspace(start,stop,num)\n",
    "    start - start of interval range\n",
    "    stop - end of interval range\n",
    "    num - number of samples to be generated\n",
    "\n"
   ]
  },
  {
   "cell_type": "code",
   "execution_count": 23,
   "id": "f991430d",
   "metadata": {},
   "outputs": [
    {
     "name": "stdout",
     "output_type": "stream",
     "text": [
      "[ 1.   13.25 25.5  37.75 50.  ]\n",
      "(array([ 0., 18., 36., 54., 72., 90.]), 18.0)\n"
     ]
    }
   ],
   "source": [
    "arr2=np.linspace(1,50,5)\n",
    "print(arr2)\n",
    "arr3=np.linspace(0,90,6,retstep=True)\n",
    "print(arr3)"
   ]
  },
  {
   "cell_type": "markdown",
   "id": "ef16fa8e",
   "metadata": {},
   "source": [
    "# 3. Generate arrays using arange( )\n",
    "\n",
    "    numpy.arange()- returns equally spaced numbers with in the given range based on step size\n",
    "    Syntax:numpy.arange(start,stop,step)\n",
    "    start - start of interval range\n",
    "    stop - end of interval range\n",
    "    step - step size of interval\n",
    "\n"
   ]
  },
  {
   "cell_type": "code",
   "execution_count": 28,
   "id": "4cca7770",
   "metadata": {},
   "outputs": [
    {
     "name": "stdout",
     "output_type": "stream",
     "text": [
      "arr4: [0 1 2 3 4 5 6 7 8 9]\n",
      "arr5: [10 11 12 13 14 15 16 17 18 19]\n",
      "arr6: [10 12 14 16 18 20 22 24 26 28]\n"
     ]
    }
   ],
   "source": [
    "arr4=np.arange(10) #start\n",
    "print(\"arr4:\",arr4)\n",
    "arr5=np.arange(10,20) #start ,stop\n",
    "print(\"arr5:\",arr5)\n",
    "arr6=np.arange(10,30,2) #start ,stop,step\n",
    "print(\"arr6:\",arr6)"
   ]
  },
  {
   "cell_type": "code",
   "execution_count": 29,
   "id": "5d0445ea",
   "metadata": {},
   "outputs": [
    {
     "name": "stdout",
     "output_type": "stream",
     "text": [
      "[30 28 26 24 22 20 18 16 14 12]\n"
     ]
    }
   ],
   "source": [
    "arr7=np.arange(start=30,stop=10,step=-2)\n",
    "print(arr7)"
   ]
  },
  {
   "cell_type": "markdown",
   "id": "d66d8b8d",
   "metadata": {},
   "source": [
    "# 4. Generate arrays using ones\n",
    "\n",
    "    numpy.ones()- returns an array of given shape and type filled with ones\n",
    "    Syntax:numpy.ones(shape,dtype)\n",
    "    shape - integer or sequence of integers\n",
    "    dtype - data type (default:float)\n",
    "\n"
   ]
  },
  {
   "cell_type": "code",
   "execution_count": 34,
   "id": "9b5a13f3",
   "metadata": {},
   "outputs": [
    {
     "name": "stdout",
     "output_type": "stream",
     "text": [
      "[[1. 1. 1.]\n",
      " [1. 1. 1.]\n",
      " [1. 1. 1.]]\n",
      "\n",
      "[[1 1 1 1]\n",
      " [1 1 1 1]\n",
      " [1 1 1 1]\n",
      " [1 1 1 1]]\n"
     ]
    }
   ],
   "source": [
    "arr8=np.ones((3,3))\n",
    "print(arr8)\n",
    "print()\n",
    "arr9=np.ones((4,4),int)\n",
    "print(arr9)"
   ]
  },
  {
   "cell_type": "markdown",
   "id": "c5667699",
   "metadata": {},
   "source": [
    "# 5. Generate arrays using zeros\n",
    "\n",
    "    numpy.zeros()- returns an array of given shape and type filled with zeros\n",
    "    Syntax:numpy.zeros(shape,dtype)\n",
    "    shape - integer or sequence of integers\n",
    "    dtype - data type (default:float)\n",
    "\n"
   ]
  },
  {
   "cell_type": "code",
   "execution_count": 35,
   "id": "ae548d3f",
   "metadata": {},
   "outputs": [
    {
     "name": "stdout",
     "output_type": "stream",
     "text": [
      "[[0. 0. 0.]\n",
      " [0. 0. 0.]\n",
      " [0. 0. 0.]]\n"
     ]
    }
   ],
   "source": [
    "arr10=np.zeros((3,3))\n",
    "print(arr10)"
   ]
  },
  {
   "cell_type": "markdown",
   "id": "8dd9def2",
   "metadata": {},
   "source": [
    "# 6. Generate arrays using random.rand( )\n",
    "\n",
    "    numpy.random.rand()- returns an array of given shape filled with random values\n",
    "    Syntax:numpy.random.rand(shape)\n",
    "    shape - integer or sequence of integers\n",
    "\n"
   ]
  },
  {
   "cell_type": "code",
   "execution_count": 38,
   "id": "0cf94743",
   "metadata": {},
   "outputs": [
    {
     "name": "stdout",
     "output_type": "stream",
     "text": [
      "arr11: [0.29927591 0.51390264 0.06844478 0.96583311 0.05552097]\n",
      "\n",
      "arr12: [[0.52215902 0.35141319 0.58893087 0.64421543 0.23079915 0.30169175]\n",
      " [0.88343997 0.57828523 0.65958282 0.63617071 0.18670949 0.86813955]\n",
      " [0.82402567 0.78531638 0.70766125 0.94283505 0.04663066 0.80909486]\n",
      " [0.53019123 0.64063915 0.33764483 0.43454074 0.278462   0.54035633]\n",
      " [0.31707322 0.75658719 0.31791003 0.99011008 0.02132412 0.60155035]]\n"
     ]
    }
   ],
   "source": [
    "arr11=np.random.rand(5)\n",
    "print(\"arr11:\",arr11)\n",
    "arr12=np.random.rand(5,6) # five rows and six colunms\n",
    "print(\"\\narr12:\",arr12)"
   ]
  },
  {
   "cell_type": "markdown",
   "id": "2b6d17b0",
   "metadata": {},
   "source": [
    "Select 5 random integers from the range of 1 to 100"
   ]
  },
  {
   "cell_type": "code",
   "execution_count": 40,
   "id": "5e405605",
   "metadata": {},
   "outputs": [
    {
     "name": "stdout",
     "output_type": "stream",
     "text": [
      "[[26  7 35]\n",
      " [71 30 88]\n",
      " [63 66 34]\n",
      " [25 24 15]\n",
      " [83 25 63]]\n"
     ]
    }
   ],
   "source": [
    "arr13=np.random.randint(1,100,(5,3))\n",
    "print(arr13)"
   ]
  },
  {
   "cell_type": "code",
   "execution_count": 42,
   "id": "01898a4e",
   "metadata": {},
   "outputs": [
    {
     "data": {
      "text/plain": [
       "(5, 3)"
      ]
     },
     "execution_count": 42,
     "metadata": {},
     "output_type": "execute_result"
    }
   ],
   "source": [
    "arr13.shape"
   ]
  },
  {
   "cell_type": "markdown",
   "id": "2348c09c",
   "metadata": {},
   "source": [
    "# Operations on Array\n",
    "1. Check Shape of Array\n"
   ]
  },
  {
   "cell_type": "code",
   "execution_count": 44,
   "id": "2d708cf7",
   "metadata": {},
   "outputs": [
    {
     "name": "stdout",
     "output_type": "stream",
     "text": [
      "[[4 5 6]\n",
      " [6 8 9]]\n",
      "\n",
      " (2, 3)\n"
     ]
    }
   ],
   "source": [
    "a=np.array([[4,5,6],[6,8,9]])\n",
    "print(a)\n",
    "print(\"\\n\",a.shape)"
   ]
  },
  {
   "cell_type": "markdown",
   "id": "7f4cd5f5",
   "metadata": {},
   "source": [
    "# 2. Reshaping Size of Array\n",
    "\n",
    "    reshape()- recasts an array to new shape without changing it’s data\n",
    "\n"
   ]
  },
  {
   "cell_type": "code",
   "execution_count": 45,
   "id": "3f35184e",
   "metadata": {},
   "outputs": [
    {
     "name": "stdout",
     "output_type": "stream",
     "text": [
      "[[4 5]\n",
      " [6 6]\n",
      " [8 9]]\n"
     ]
    }
   ],
   "source": [
    "b=a.reshape(3,2)\n",
    "print(b)"
   ]
  },
  {
   "cell_type": "code",
   "execution_count": 47,
   "id": "8fc23065",
   "metadata": {},
   "outputs": [
    {
     "name": "stdout",
     "output_type": "stream",
     "text": [
      "[[50 51 52 53]\n",
      " [54 55 56 57]\n",
      " [58 59 60 61]\n",
      " [62 63 64 65]\n",
      " [66 67 68 69]]\n"
     ]
    }
   ],
   "source": [
    "c=np.arange(50,70).reshape(5,4)\n",
    "print(c)"
   ]
  },
  {
   "cell_type": "code",
   "execution_count": 55,
   "id": "6a881006",
   "metadata": {},
   "outputs": [
    {
     "name": "stdout",
     "output_type": "stream",
     "text": [
      "[[50 51 52 53 54]\n",
      " [55 56 57 58 59]\n",
      " [60 61 62 63 64]\n",
      " [65 66 67 68 69]]\n"
     ]
    }
   ],
   "source": [
    "d=c.reshape(4,5)\n",
    "print(d)"
   ]
  },
  {
   "cell_type": "markdown",
   "id": "e70d8958",
   "metadata": {},
   "source": [
    "# 3. Accessing Elements"
   ]
  },
  {
   "cell_type": "code",
   "execution_count": 59,
   "id": "52493efd",
   "metadata": {},
   "outputs": [
    {
     "name": "stdout",
     "output_type": "stream",
     "text": [
      "53\n",
      "62\n"
     ]
    }
   ],
   "source": [
    "# print 53 in c array\n",
    "print(c[0][3])\n",
    "#print 62 in d array\n",
    "print(d[2][2])"
   ]
  },
  {
   "cell_type": "code",
   "execution_count": 66,
   "id": "87a65617",
   "metadata": {},
   "outputs": [
    {
     "name": "stdout",
     "output_type": "stream",
     "text": [
      "[[1 2 3]\n",
      " [4 5 6]\n",
      " [7 8 9]\n",
      " [0 5 1]]\n",
      "\n",
      "[[4 5 6]\n",
      " [7 8 9]]\n",
      "\n",
      "[[1 2]\n",
      " [4 5]\n",
      " [7 8]\n",
      " [0 5]]\n"
     ]
    }
   ],
   "source": [
    "a=np.array([[1,2,3],[4,5,6],[7,8,9],[0,5,1]])\n",
    "print(a)\n",
    "print()\n",
    "#print second and third rows\n",
    "print(a[1:3])\n",
    "print()\n",
    "#print first and second colunms\n",
    "print(a[:,(0,1)])"
   ]
  },
  {
   "cell_type": "code",
   "execution_count": 73,
   "id": "4f5dc122",
   "metadata": {},
   "outputs": [
    {
     "name": "stdout",
     "output_type": "stream",
     "text": [
      "[[1 2]\n",
      " [4 5]]\n"
     ]
    }
   ],
   "source": [
    "# make subset of (0,0),(0,1),(1,0),(1,1) elements\n",
    "a_sub=a[0:2,0:2]\n",
    "print(a_sub)"
   ]
  },
  {
   "cell_type": "markdown",
   "id": "f5e411ae",
   "metadata": {},
   "source": [
    "Replace 5 to 55 in subset and check it is modifying in original array or not?"
   ]
  },
  {
   "cell_type": "code",
   "execution_count": 74,
   "id": "68040467",
   "metadata": {},
   "outputs": [
    {
     "name": "stdout",
     "output_type": "stream",
     "text": [
      "[[ 1  2]\n",
      " [ 4 55]]\n"
     ]
    }
   ],
   "source": [
    "a_sub[1,1]=55\n",
    "print(a_sub)"
   ]
  },
  {
   "cell_type": "code",
   "execution_count": 75,
   "id": "1f63b54f",
   "metadata": {},
   "outputs": [
    {
     "name": "stdout",
     "output_type": "stream",
     "text": [
      "[[ 1  2  3]\n",
      " [ 4 55  6]\n",
      " [ 7  8  9]\n",
      " [ 0  5  1]]\n"
     ]
    }
   ],
   "source": [
    "print(a)"
   ]
  },
  {
   "cell_type": "markdown",
   "id": "98e6d539",
   "metadata": {},
   "source": [
    "\n",
    "\n",
    "    Note - Original array gets modified if you update subset elements\n",
    "\n"
   ]
  },
  {
   "cell_type": "markdown",
   "id": "d3c7b227",
   "metadata": {},
   "source": [
    "# 4. Numpy Addition"
   ]
  },
  {
   "cell_type": "code",
   "execution_count": 76,
   "id": "b84cc77c",
   "metadata": {},
   "outputs": [
    {
     "name": "stdout",
     "output_type": "stream",
     "text": [
      "[[1 2 3]\n",
      " [4 5 6]\n",
      " [7 8 9]]\n"
     ]
    }
   ],
   "source": [
    "import numpy as np\n",
    "a=np.array([[1,2,3],[4,5,6],[7,8,9]])\n",
    "print(a)"
   ]
  },
  {
   "cell_type": "code",
   "execution_count": 82,
   "id": "6fe28548",
   "metadata": {},
   "outputs": [
    {
     "name": "stdout",
     "output_type": "stream",
     "text": [
      "45\n",
      "45\n",
      "45\n"
     ]
    }
   ],
   "source": [
    "print(a.sum())\n",
    "print(np.sum(a))\n",
    "print(np.sum(a,axis=None))"
   ]
  },
  {
   "cell_type": "code",
   "execution_count": 84,
   "id": "a059c7cd",
   "metadata": {},
   "outputs": [
    {
     "name": "stdout",
     "output_type": "stream",
     "text": [
      "[12 15 18]\n",
      "[ 6 15 24]\n"
     ]
    }
   ],
   "source": [
    "#Colunm Element addition\n",
    "print(np.sum(a,axis=0))\n",
    "#Row Element addition\n",
    "print(np.sum(a,axis=1))"
   ]
  },
  {
   "cell_type": "code",
   "execution_count": 88,
   "id": "95623665",
   "metadata": {},
   "outputs": [
    {
     "name": "stdout",
     "output_type": "stream",
     "text": [
      "[[1 2 3]\n",
      " [4 5 6]\n",
      " [7 8 9]]\n",
      "\n",
      "[[10 20 30]\n",
      " [40 50 60]\n",
      " [70 80 90]]\n",
      "\n",
      "495\n",
      "\n",
      "[[11 22 33]\n",
      " [44 55 66]\n",
      " [77 88 99]]\n"
     ]
    }
   ],
   "source": [
    "a=np.array([[1,2,3],[4,5,6],[7,8,9]])\n",
    "b=np.array([[10,20,30],[40,50,60],[70,80,90]])\n",
    "c=np.sum(a+b)\n",
    "d=np.add(a,b)\n",
    "print(a)\n",
    "print()\n",
    "print(b)\n",
    "print()\n",
    "print(c)\n",
    "print()\n",
    "print(d)"
   ]
  },
  {
   "cell_type": "markdown",
   "id": "2cdbbaa5",
   "metadata": {},
   "source": [
    "# 5. Numpy Subtract"
   ]
  },
  {
   "cell_type": "code",
   "execution_count": 89,
   "id": "0623c3d3",
   "metadata": {},
   "outputs": [
    {
     "name": "stdout",
     "output_type": "stream",
     "text": [
      "[[ -9 -18 -27]\n",
      " [-36 -45 -54]\n",
      " [-63 -72 -81]]\n"
     ]
    }
   ],
   "source": [
    "print(np.subtract(a,b))"
   ]
  },
  {
   "cell_type": "markdown",
   "id": "8fd7c3a4",
   "metadata": {},
   "source": [
    "# 6. Numpy Multiplication\n"
   ]
  },
  {
   "cell_type": "code",
   "execution_count": 90,
   "id": "51aaae42",
   "metadata": {},
   "outputs": [
    {
     "name": "stdout",
     "output_type": "stream",
     "text": [
      "[[ 10  40  90]\n",
      " [160 250 360]\n",
      " [490 640 810]]\n"
     ]
    }
   ],
   "source": [
    "print(np.multiply(a,b))"
   ]
  },
  {
   "cell_type": "markdown",
   "id": "f607168f",
   "metadata": {},
   "source": [
    "# 7. Numpy Division"
   ]
  },
  {
   "cell_type": "code",
   "execution_count": 91,
   "id": "637d1da4",
   "metadata": {},
   "outputs": [
    {
     "name": "stdout",
     "output_type": "stream",
     "text": [
      "[[10. 10. 10.]\n",
      " [10. 10. 10.]\n",
      " [10. 10. 10.]]\n"
     ]
    }
   ],
   "source": [
    "print(np.divide(b,a))"
   ]
  },
  {
   "cell_type": "markdown",
   "id": "d33a3c48",
   "metadata": {},
   "source": [
    "# 8. Numpy Remainder"
   ]
  },
  {
   "cell_type": "code",
   "execution_count": 92,
   "id": "215f41d8",
   "metadata": {},
   "outputs": [
    {
     "name": "stdout",
     "output_type": "stream",
     "text": [
      "[[0 0 0]\n",
      " [0 0 0]\n",
      " [0 0 0]]\n"
     ]
    }
   ],
   "source": [
    "print(np.remainder(b,a))"
   ]
  },
  {
   "cell_type": "markdown",
   "id": "6f383e23",
   "metadata": {},
   "source": [
    "# 9. Numpy Transpose"
   ]
  },
  {
   "cell_type": "code",
   "execution_count": 93,
   "id": "4a0beced",
   "metadata": {},
   "outputs": [
    {
     "name": "stdout",
     "output_type": "stream",
     "text": [
      "[[1 2 3]\n",
      " [4 5 6]\n",
      " [7 8 9]]\n"
     ]
    }
   ],
   "source": [
    "print(a)"
   ]
  },
  {
   "cell_type": "code",
   "execution_count": 95,
   "id": "ace1ebec",
   "metadata": {},
   "outputs": [
    {
     "name": "stdout",
     "output_type": "stream",
     "text": [
      "[[1 4 7]\n",
      " [2 5 8]\n",
      " [3 6 9]]\n"
     ]
    }
   ],
   "source": [
    "print(a.transpose())"
   ]
  },
  {
   "cell_type": "code",
   "execution_count": 96,
   "id": "819f2572",
   "metadata": {},
   "outputs": [
    {
     "name": "stdout",
     "output_type": "stream",
     "text": [
      "[[1 4 7]\n",
      " [2 5 8]\n",
      " [3 6 9]]\n"
     ]
    }
   ],
   "source": [
    "print(np.transpose(a))"
   ]
  },
  {
   "cell_type": "markdown",
   "id": "59b52e55",
   "metadata": {},
   "source": [
    "# 10. Numpy Append"
   ]
  },
  {
   "cell_type": "code",
   "execution_count": 98,
   "id": "172f5e3c",
   "metadata": {},
   "outputs": [
    {
     "name": "stdout",
     "output_type": "stream",
     "text": [
      "[[1 2 3]\n",
      " [4 5 6]\n",
      " [7 8 9]]\n",
      "\n",
      "[[1 2 3]\n",
      " [4 5 6]\n",
      " [7 8 9]\n",
      " [0 4 7]]\n"
     ]
    }
   ],
   "source": [
    "print(a)\n",
    "print()\n",
    "print(np.append(a,[[0,4,7]],axis=0))"
   ]
  },
  {
   "cell_type": "code",
   "execution_count": 99,
   "id": "4c1f6c18",
   "metadata": {},
   "outputs": [
    {
     "name": "stdout",
     "output_type": "stream",
     "text": [
      "[[10 20 30]\n",
      " [40 50 60]\n",
      " [70 80 90]]\n",
      "[[13]\n",
      " [14]\n",
      " [15]]\n",
      "[[10 20 30 13]\n",
      " [40 50 60 14]\n",
      " [70 80 90 15]]\n"
     ]
    }
   ],
   "source": [
    "print(b)\n",
    "# To append in rows, transpose horizontal array to vertical array\n",
    "c=np.array([[13,14,15]])\n",
    "c=np.transpose(c)\n",
    "print(c)\n",
    "d=np.append(b,c,axis=1) #Elements are added in rows\n",
    "print(d)\n"
   ]
  },
  {
   "cell_type": "markdown",
   "id": "e3efe3bc",
   "metadata": {},
   "source": [
    "# 11. Numpy Insert"
   ]
  },
  {
   "cell_type": "code",
   "execution_count": 102,
   "id": "6ec91f12",
   "metadata": {},
   "outputs": [
    {
     "name": "stdout",
     "output_type": "stream",
     "text": [
      "[[2 4 8]\n",
      " [3 5 7]]\n",
      "\n",
      "[[2 4 8]\n",
      " [9 1 0]\n",
      " [3 5 7]]\n"
     ]
    }
   ],
   "source": [
    "a=np.array([[2,4,8],[3,5,7]])\n",
    "print(a)\n",
    "print()\n",
    "a_insert=np.insert(a,1,[[9,1,0]],axis=0)\n",
    "print(a_insert)"
   ]
  },
  {
   "cell_type": "code",
   "execution_count": 104,
   "id": "1f3e6b4c",
   "metadata": {},
   "outputs": [
    {
     "name": "stdout",
     "output_type": "stream",
     "text": [
      "[[2 4 8]\n",
      " [9 1 0]\n",
      " [3 5 7]]\n",
      "\n",
      "[[2 4 8]\n",
      " [3 5 7]]\n"
     ]
    }
   ],
   "source": [
    "print(a_insert)\n",
    "print()\n",
    "a_delete=np.delete(a_insert,1,axis=0)\n",
    "print(a_delete)"
   ]
  },
  {
   "cell_type": "markdown",
   "id": "412049d2",
   "metadata": {},
   "source": [
    "# Matrices\n",
    "\n",
    "    Rectangular arrangement of numbers in rows and columns\n",
    "    Rows run horizontally and columns run vertically\n",
    "\n",
    "Create a matrix\n",
    "\n",
    "    matrix()- returns a matrix from an array type object or string of data\n",
    "    Syntax:numpy.matrix(data)\n",
    "\n"
   ]
  },
  {
   "cell_type": "code",
   "execution_count": 105,
   "id": "7a88c413",
   "metadata": {},
   "outputs": [
    {
     "name": "stdout",
     "output_type": "stream",
     "text": [
      "[[4 5 6]\n",
      " [4 7 9]\n",
      " [6 0 1]]\n"
     ]
    }
   ],
   "source": [
    "m1=np.matrix(\"4,5,6;4,7,9;6,0,1\")\n",
    "print(m1)"
   ]
  },
  {
   "cell_type": "code",
   "execution_count": 106,
   "id": "60005263",
   "metadata": {},
   "outputs": [
    {
     "data": {
      "text/plain": [
       "(3, 3)"
      ]
     },
     "execution_count": 106,
     "metadata": {},
     "output_type": "execute_result"
    }
   ],
   "source": [
    "m1.shape"
   ]
  },
  {
   "cell_type": "code",
   "execution_count": 107,
   "id": "5afbfb61",
   "metadata": {},
   "outputs": [
    {
     "data": {
      "text/plain": [
       "9"
      ]
     },
     "execution_count": 107,
     "metadata": {},
     "output_type": "execute_result"
    }
   ],
   "source": [
    "m1.size"
   ]
  },
  {
   "cell_type": "code",
   "execution_count": 114,
   "id": "2582a754",
   "metadata": {},
   "outputs": [
    {
     "name": "stdout",
     "output_type": "stream",
     "text": [
      "7\n"
     ]
    }
   ],
   "source": [
    "print(m1[1,1]) # Accessing Elements"
   ]
  },
  {
   "cell_type": "code",
   "execution_count": 115,
   "id": "9f4906d9",
   "metadata": {},
   "outputs": [
    {
     "name": "stdout",
     "output_type": "stream",
     "text": [
      "[[4 5]\n",
      " [4 7]]\n"
     ]
    }
   ],
   "source": [
    "subset=m1[0:2,0:2]\n",
    "print(subset)"
   ]
  },
  {
   "cell_type": "code",
   "execution_count": 117,
   "id": "ba4b9377",
   "metadata": {},
   "outputs": [
    {
     "name": "stdout",
     "output_type": "stream",
     "text": [
      "[[ 4  5]\n",
      " [ 4 55]]\n",
      "\n",
      "[[ 4  5  6]\n",
      " [ 4 55  9]\n",
      " [ 6  0  1]]\n"
     ]
    }
   ],
   "source": [
    "# Updating Values\n",
    "subset[1,1]=55\n",
    "print(subset)\n",
    "print()\n",
    "print(m1)"
   ]
  },
  {
   "cell_type": "markdown",
   "id": "75a0023b",
   "metadata": {},
   "source": [
    "# Matrix Addition\n",
    "\n",
    "    numpy.add(matrix_1,matrix_2)\n",
    "\n"
   ]
  },
  {
   "cell_type": "code",
   "execution_count": 118,
   "id": "dce62f67",
   "metadata": {},
   "outputs": [
    {
     "data": {
      "text/plain": [
       "matrix([[ 4,  5,  6],\n",
       "        [ 4, 55,  9],\n",
       "        [ 6,  0,  1]])"
      ]
     },
     "execution_count": 118,
     "metadata": {},
     "output_type": "execute_result"
    }
   ],
   "source": [
    "m1"
   ]
  },
  {
   "cell_type": "code",
   "execution_count": 119,
   "id": "498097bc",
   "metadata": {},
   "outputs": [
    {
     "data": {
      "text/plain": [
       "matrix([[1, 2, 3],\n",
       "        [4, 5, 6],\n",
       "        [7, 8, 9]])"
      ]
     },
     "execution_count": 119,
     "metadata": {},
     "output_type": "execute_result"
    }
   ],
   "source": [
    "m2=np.matrix(\"1,2,3;4,5,6;7,8,9\")\n",
    "m2"
   ]
  },
  {
   "cell_type": "code",
   "execution_count": 121,
   "id": "9344f97c",
   "metadata": {},
   "outputs": [
    {
     "data": {
      "text/plain": [
       "matrix([[ 5,  7,  9],\n",
       "        [ 8, 60, 15],\n",
       "        [13,  8, 10]])"
      ]
     },
     "execution_count": 121,
     "metadata": {},
     "output_type": "execute_result"
    }
   ],
   "source": [
    "add_matrix=np.add(m1,m2)\n",
    "add_matrix"
   ]
  },
  {
   "cell_type": "markdown",
   "id": "79aee67a",
   "metadata": {},
   "source": [
    "# Subtraction\n",
    "\n",
    "    numpy.subtract(m1,m2)\n",
    "\n"
   ]
  },
  {
   "cell_type": "code",
   "execution_count": 123,
   "id": "10dc95a1",
   "metadata": {},
   "outputs": [
    {
     "data": {
      "text/plain": [
       "matrix([[ 3,  3,  3],\n",
       "        [ 0, 50,  3],\n",
       "        [-1, -8, -8]])"
      ]
     },
     "execution_count": 123,
     "metadata": {},
     "output_type": "execute_result"
    }
   ],
   "source": [
    "sub_matrix=np.subtract(m1,m2)\n",
    "sub_matrix"
   ]
  },
  {
   "cell_type": "markdown",
   "id": "6229aa6b",
   "metadata": {},
   "source": [
    "# Multiplication\n",
    "\n",
    "    numpy.dot(matrix_1,matrix_2)\n",
    "\n"
   ]
  },
  {
   "cell_type": "code",
   "execution_count": 125,
   "id": "b5d44286",
   "metadata": {},
   "outputs": [
    {
     "name": "stdout",
     "output_type": "stream",
     "text": [
      "[[ 4  5  6]\n",
      " [ 4 55  9]\n",
      " [ 6  0  1]]\n",
      "[[1 2 3]\n",
      " [4 5 6]\n",
      " [7 8 9]]\n"
     ]
    },
    {
     "data": {
      "text/plain": [
       "matrix([[ 66,  81,  96],\n",
       "        [287, 355, 423],\n",
       "        [ 13,  20,  27]])"
      ]
     },
     "execution_count": 125,
     "metadata": {},
     "output_type": "execute_result"
    }
   ],
   "source": [
    "# Matrix multiplication rules should be followed\n",
    "print(m1)\n",
    "print(m2)\n",
    "multi=np.dot(m1,m2)\n",
    "multi"
   ]
  },
  {
   "cell_type": "code",
   "execution_count": 126,
   "id": "89f07b3c",
   "metadata": {},
   "outputs": [
    {
     "name": "stdout",
     "output_type": "stream",
     "text": [
      "[[ 4  5  6]\n",
      " [ 4 55  9]\n",
      " [ 6  0  1]]\n",
      "[[1 2 3]\n",
      " [4 5 6]\n",
      " [7 8 9]]\n"
     ]
    },
    {
     "data": {
      "text/plain": [
       "matrix([[  4,  10,  18],\n",
       "        [ 16, 275,  54],\n",
       "        [ 42,   0,   9]])"
      ]
     },
     "execution_count": 126,
     "metadata": {},
     "output_type": "execute_result"
    }
   ],
   "source": [
    "# Matrix multiplication element wise\n",
    "print(m1)\n",
    "print(m2)\n",
    "mul_mat=np.multiply(m1,m2)\n",
    "mul_mat"
   ]
  },
  {
   "cell_type": "markdown",
   "id": "e6103b56",
   "metadata": {},
   "source": [
    "# Matrix Division\n",
    "\n",
    "    numpy.divide(matrix_1,matrix_2)\n",
    "\n"
   ]
  },
  {
   "cell_type": "code",
   "execution_count": 127,
   "id": "be55ea1d",
   "metadata": {},
   "outputs": [
    {
     "name": "stdout",
     "output_type": "stream",
     "text": [
      "[[ 4  5  6]\n",
      " [ 4 55  9]\n",
      " [ 6  0  1]]\n",
      "[[1 2 3]\n",
      " [4 5 6]\n",
      " [7 8 9]]\n"
     ]
    },
    {
     "name": "stderr",
     "output_type": "stream",
     "text": [
      "<ipython-input-127-98bf93b40df9>:3: RuntimeWarning: divide by zero encountered in true_divide\n",
      "  div_mat=np.divide(m2,m1)\n"
     ]
    },
    {
     "data": {
      "text/plain": [
       "matrix([[0.25      , 0.4       , 0.5       ],\n",
       "        [1.        , 0.09090909, 0.66666667],\n",
       "        [1.16666667,        inf, 9.        ]])"
      ]
     },
     "execution_count": 127,
     "metadata": {},
     "output_type": "execute_result"
    }
   ],
   "source": [
    "print(m1)\n",
    "print(m2)\n",
    "div_mat=np.divide(m2,m1)\n",
    "div_mat"
   ]
  },
  {
   "cell_type": "markdown",
   "id": "d9671c7b",
   "metadata": {},
   "source": [
    "# Linear Algeabra : numpy.linalg\n",
    "Determinent of Matrix"
   ]
  },
  {
   "cell_type": "code",
   "execution_count": 128,
   "id": "c02adb70",
   "metadata": {},
   "outputs": [
    {
     "name": "stdout",
     "output_type": "stream",
     "text": [
      "[[ 4  5  6]\n",
      " [ 4 55  9]\n",
      " [ 6  0  1]]\n"
     ]
    }
   ],
   "source": [
    "print(m1)"
   ]
  },
  {
   "cell_type": "code",
   "execution_count": 130,
   "id": "7e9fb337",
   "metadata": {},
   "outputs": [
    {
     "data": {
      "text/plain": [
       "-1510.0000000000002"
      ]
     },
     "execution_count": 130,
     "metadata": {},
     "output_type": "execute_result"
    }
   ],
   "source": [
    "det_mat=np.linalg.det(m1)\n",
    "det_mat"
   ]
  },
  {
   "cell_type": "markdown",
   "id": "20c4164d",
   "metadata": {},
   "source": [
    "Rank of Matrix"
   ]
  },
  {
   "cell_type": "code",
   "execution_count": 131,
   "id": "8e7a19d0",
   "metadata": {},
   "outputs": [
    {
     "name": "stdout",
     "output_type": "stream",
     "text": [
      "3\n"
     ]
    }
   ],
   "source": [
    "rank_m1=np.linalg.matrix_rank(m1)\n",
    "print(rank_m1)"
   ]
  },
  {
   "cell_type": "markdown",
   "id": "2fc162f5",
   "metadata": {},
   "source": [
    "Inverse of Matrix"
   ]
  },
  {
   "cell_type": "code",
   "execution_count": 132,
   "id": "bfc9ae4e",
   "metadata": {},
   "outputs": [
    {
     "data": {
      "text/plain": [
       "matrix([[-0.03642384,  0.00331126,  0.18874172],\n",
       "        [-0.03311258,  0.02119205,  0.00794702],\n",
       "        [ 0.21854305, -0.01986755, -0.13245033]])"
      ]
     },
     "execution_count": 132,
     "metadata": {},
     "output_type": "execute_result"
    }
   ],
   "source": [
    "inv_m1=np.linalg.inv(m1)\n",
    "inv_m1\n",
    "# Inverse possible if matrix is non singular(Determinent Non-Zero)\n"
   ]
  },
  {
   "cell_type": "code",
   "execution_count": null,
   "id": "1fcd9f07",
   "metadata": {},
   "outputs": [],
   "source": []
  }
 ],
 "metadata": {
  "kernelspec": {
   "display_name": "Python 3",
   "language": "python",
   "name": "python3"
  },
  "language_info": {
   "codemirror_mode": {
    "name": "ipython",
    "version": 3
   },
   "file_extension": ".py",
   "mimetype": "text/x-python",
   "name": "python",
   "nbconvert_exporter": "python",
   "pygments_lexer": "ipython3",
   "version": "3.8.8"
  }
 },
 "nbformat": 4,
 "nbformat_minor": 5
}
