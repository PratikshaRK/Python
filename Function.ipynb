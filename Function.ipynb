{
 "cells": [
  {
   "cell_type": "markdown",
   "id": "db93db84",
   "metadata": {},
   "source": [
    "# Function"
   ]
  },
  {
   "cell_type": "markdown",
   "id": "f68f0cbc",
   "metadata": {},
   "source": [
    "\n",
    "\n",
    "    What is Function\n",
    "    Function is set of statements written in specific order to complete a specific task\n",
    "    def keyword is used to create / define function\n",
    "    why to write functions??\n",
    "    if we write all code together, it is going to be complex, it will be difficult to understand, read and modify the code\n",
    "    Function is basically good for oraginizing the code\n",
    "    In python, we should learn how to define function, how to call a function, how to pass parameters to function, how to return values from function etc\n",
    "    fucntion should be defined above to its call\n",
    "\n"
   ]
  },
  {
   "cell_type": "code",
   "execution_count": 1,
   "id": "3aa1289d",
   "metadata": {},
   "outputs": [
    {
     "name": "stdout",
     "output_type": "stream",
     "text": [
      "Hello from a function\n"
     ]
    }
   ],
   "source": [
    "# Function\n",
    "def my_function():\n",
    "    print(\"Hello from a function\")\n",
    "my_function()"
   ]
  },
  {
   "cell_type": "code",
   "execution_count": 2,
   "id": "9927f192",
   "metadata": {},
   "outputs": [
    {
     "name": "stdout",
     "output_type": "stream",
     "text": [
      "I am a Cat\n"
     ]
    }
   ],
   "source": [
    "# Method\n",
    "class Pet(object):\n",
    "   def my_method(self):\n",
    "      print(\"I am a Cat\")\n",
    "cat = Pet()\n",
    "cat.my_method()"
   ]
  },
  {
   "cell_type": "code",
   "execution_count": 3,
   "id": "6f75d18f",
   "metadata": {},
   "outputs": [
    {
     "name": "stdout",
     "output_type": "stream",
     "text": [
      "Hello my name is John\n"
     ]
    }
   ],
   "source": [
    "# Method\n",
    "class Person:\n",
    "  def __init__(self, name, age):\n",
    "    self.name = name\n",
    "    self.age = age\n",
    "\n",
    "  def myfunc(self):\n",
    "    print(\"Hello my name is \" + self.name)\n",
    "\n",
    "p1 = Person(\"John\", 36)\n",
    "p1.myfunc()\n",
    "\n"
   ]
  },
  {
   "cell_type": "code",
   "execution_count": null,
   "id": "518992b8",
   "metadata": {},
   "outputs": [],
   "source": []
  }
 ],
 "metadata": {
  "kernelspec": {
   "display_name": "Python 3",
   "language": "python",
   "name": "python3"
  },
  "language_info": {
   "codemirror_mode": {
    "name": "ipython",
    "version": 3
   },
   "file_extension": ".py",
   "mimetype": "text/x-python",
   "name": "python",
   "nbconvert_exporter": "python",
   "pygments_lexer": "ipython3",
   "version": "3.8.8"
  }
 },
 "nbformat": 4,
 "nbformat_minor": 5
}
